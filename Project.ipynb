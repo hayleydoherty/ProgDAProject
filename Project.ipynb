{
 "cells": [
  {
   "cell_type": "markdown",
   "metadata": {},
   "source": [
    "## Programming for Data Analysis Project\n",
    "#### Hayley Doherty G00387849\n",
    "---"
   ]
  },
  {
   "cell_type": "markdown",
   "metadata": {},
   "source": [
    "My sister is a Spanish teacher in the local secondary school and so for this project I decided to ask her what factors were most influential in the grade a student go tin their mock LC exmas and simulated these factors to determine if there was any correlations between them and the grades received. The 3 factors I chose are the number of absences from class during the semester, the sex of the student and the number of hours per week the student studies outside of school. \n",
    "\n",
    "looking at hiigher level grades over past 3 years since her first year of teaching.\n",
    "LC higher level marked from H1-H8.\n",
    "grades are awarded according to a bell-shaped curve and so are normally distributed [1]. as the data for this vairable can only be between 1-8 it is called a discrete variable.\n",
    "the number of absences from class is a count variable. it takes only non-negative integer values. when a count variable is treated as a random variable such as this, the poisson distribution can be used to represent its distribution.\n",
    "the sex of the student is a categorical variable. this is a variable that has 2 or more categories with no intrinsicordering bwtween them [2]\n",
    "similar to the number of absences, the number of hours per week a student studies outside of school is a count variable and ccan only take a non-negative integer value [3]."
   ]
  },
  {
   "cell_type": "code",
   "execution_count": 50,
   "metadata": {},
   "outputs": [],
   "source": [
    "import matplotlib.pyplot as plt\n",
    "import numpy as np\n",
    "from numpy.random import default_rng\n",
    "rng = default_rng()"
   ]
  },
  {
   "cell_type": "code",
   "execution_count": 45,
   "metadata": {},
   "outputs": [
    {
     "data": {
      "image/png": "[encoded data removed]",
      "text/plain": [
       "<Figure size 432x288 with 1 Axes>"
      ]
     },
     "metadata": {
      "needs_background": "light"
     },
     "output_type": "display_data"
    }
   ],
   "source": [
    "labels = ['H1', 'H2', 'H3', 'H4', 'H5', 'H6', 'H7', 'H8']\n",
    "means = [7.7, 16.2, 17.9, 19.9, 18.1, 12.9, 5.8, 1.5]\n",
    "x = np.arange(len(labels))\n",
    "width = 0.75\n",
    "\n",
    "ax = plt.subplot()\n",
    "rects = ax.bar(x, means, width)\n",
    "ax.set_xticks(x)\n",
    "ax.set_xticklabels(labels)\n",
    "\n",
    "plt.show()\n"
   ]
  },
  {
   "cell_type": "code",
   "execution_count": 66,
   "metadata": {},
   "outputs": [
    {
     "data": {
      "text/plain": [
       "array([ 5.57357238,  1.8984861 ,  4.51292641,  1.83438064,  2.71950842,\n",
       "        3.14977847,  2.7185863 ,  1.66656977,  3.79833098,  4.52628129,\n",
       "        2.97114628,  3.82655087,  7.14336872,  4.27561918,  2.70227755,\n",
       "        4.17892026,  5.58859077,  5.50752504,  3.74781354,  0.84149888,\n",
       "        0.35267228,  4.61389127,  3.16995093,  5.76690892,  4.28549784,\n",
       "        3.40180713,  4.96850714,  4.88767348,  2.72492156,  3.98258942,\n",
       "        7.90168825,  1.11891976,  4.57878798,  6.93959442,  4.37405687,\n",
       "        4.23571591,  4.1430438 ,  2.95451208,  2.4328876 ,  4.17221595,\n",
       "        2.62617439,  4.24378323,  0.1047074 ,  5.79270737,  3.53793028,\n",
       "        6.37478899,  3.70030369,  3.97950771,  3.39191821,  3.09280335,\n",
       "        7.84594777,  3.94256397,  4.10678652,  4.58572627,  1.80958362,\n",
       "        0.62671293,  4.38910909,  3.63750307,  0.81874047,  5.79730831,\n",
       "        3.10019509,  5.76024938,  5.32966068,  3.55774388,  5.24051255,\n",
       "        3.12060877,  0.27217279,  7.30408042,  0.91202624,  6.04354754,\n",
       "        1.32685549,  3.0215138 ,  4.29504618,  2.59572149,  3.97149347,\n",
       "        4.14699559,  1.42727929,  3.58035475,  3.68001876,  5.30864068,\n",
       "        0.28104651,  3.05622945,  2.24329978,  4.97450607,  3.40960295,\n",
       "        2.33475605,  7.78367044,  2.93239455,  0.37129914,  3.51677071,\n",
       "        0.04427853, -0.60333087,  0.40472196,  4.4307488 , -0.56650405,\n",
       "       -1.08657828,  4.04914252,  2.18537307,  5.62736528,  4.06527931,\n",
       "        5.49856745,  1.07588967,  4.7474532 ,  5.59548321,  6.84207839])"
      ]
     },
     "execution_count": 66,
     "metadata": {},
     "output_type": "execute_result"
    }
   ],
   "source": [
    "# creating the grades varibale data\n",
    "grades = rng.normal(3.5, 1.82, 105)\n",
    "grades"
   ]
  },
  {
   "cell_type": "code",
   "execution_count": 69,
   "metadata": {},
   "outputs": [
    {
     "ename": "ValueError",
     "evalue": "shape mismatch: objects cannot be broadcast to a single shape",
     "output_type": "error",
     "traceback": [
      "\u001b[1;31m---------------------------------------------------------------------------\u001b[0m",
      "\u001b[1;31mValueError\u001b[0m                                Traceback (most recent call last)",
      "\u001b[1;32m<ipython-input-69-c3c69baf7987>\u001b[0m in \u001b[0;36m<module>\u001b[1;34m\u001b[0m\n\u001b[0;32m      1\u001b[0m \u001b[0mx\u001b[0m \u001b[1;33m=\u001b[0m \u001b[1;33m[\u001b[0m\u001b[1;36m1\u001b[0m\u001b[1;33m,\u001b[0m \u001b[1;36m2\u001b[0m\u001b[1;33m,\u001b[0m \u001b[1;36m3\u001b[0m\u001b[1;33m,\u001b[0m \u001b[1;36m4\u001b[0m\u001b[1;33m,\u001b[0m \u001b[1;36m5\u001b[0m\u001b[1;33m,\u001b[0m \u001b[1;36m6\u001b[0m\u001b[1;33m,\u001b[0m \u001b[1;36m7\u001b[0m\u001b[1;33m,\u001b[0m \u001b[1;36m8\u001b[0m\u001b[1;33m]\u001b[0m\u001b[1;33m\u001b[0m\u001b[1;33m\u001b[0m\u001b[0m\n\u001b[0;32m      2\u001b[0m \u001b[0mp\u001b[0m \u001b[1;33m=\u001b[0m \u001b[1;33m[\u001b[0m\u001b[1;36m0.08\u001b[0m\u001b[1;33m,\u001b[0m \u001b[1;36m0.16\u001b[0m\u001b[1;33m,\u001b[0m \u001b[1;36m0.18\u001b[0m\u001b[1;33m,\u001b[0m \u001b[1;36m0.2\u001b[0m\u001b[1;33m,\u001b[0m \u001b[1;36m0.18\u001b[0m\u001b[1;33m,\u001b[0m \u001b[1;36m0.13\u001b[0m\u001b[1;33m,\u001b[0m \u001b[1;36m0.06\u001b[0m\u001b[1;33m,\u001b[0m \u001b[1;36m0.01\u001b[0m\u001b[1;33m]\u001b[0m\u001b[1;33m\u001b[0m\u001b[1;33m\u001b[0m\u001b[0m\n\u001b[1;32m----> 3\u001b[1;33m \u001b[0mgrades\u001b[0m \u001b[1;33m=\u001b[0m \u001b[0mrng\u001b[0m\u001b[1;33m.\u001b[0m\u001b[0mbinomial\u001b[0m\u001b[1;33m(\u001b[0m\u001b[0mx\u001b[0m\u001b[1;33m,\u001b[0m \u001b[0mp\u001b[0m \u001b[1;33m,\u001b[0m \u001b[1;36m105\u001b[0m\u001b[1;33m)\u001b[0m\u001b[1;33m\u001b[0m\u001b[1;33m\u001b[0m\u001b[0m\n\u001b[0m\u001b[0;32m      4\u001b[0m \u001b[0mgrades\u001b[0m\u001b[1;33m\u001b[0m\u001b[1;33m\u001b[0m\u001b[0m\n",
      "\u001b[1;32m_generator.pyx\u001b[0m in \u001b[0;36mnumpy.random._generator.Generator.binomial\u001b[1;34m()\u001b[0m\n",
      "\u001b[1;32m__init__.pxd\u001b[0m in \u001b[0;36mnumpy.PyArray_MultiIterNew3\u001b[1;34m()\u001b[0m\n",
      "\u001b[1;31mValueError\u001b[0m: shape mismatch: objects cannot be broadcast to a single shape"
     ]
    }
   ],
   "source": [
    "x = [1, 2, 3, 4, 5, 6, 7, 8]\n",
    "p = [0.08, 0.16, 0.18, 0.2, 0.18, 0.13, 0.06, 0.01]\n",
    "grades = rng.binomial(x, p , 105)\n",
    "grades"
   ]
  },
  {
   "cell_type": "code",
   "execution_count": 62,
   "metadata": {},
   "outputs": [
    {
     "data": {
      "text/plain": [
       "(array([ 2.,  9., 12., 24., 18., 20., 11.,  7.,  1.,  1.]),\n",
       " array([0. , 0.9, 1.8, 2.7, 3.6, 4.5, 5.4, 6.3, 7.2, 8.1, 9. ]),\n",
       " <a list of 10 Patch objects>)"
      ]
     },
     "execution_count": 62,
     "metadata": {},
     "output_type": "execute_result"
    },
    {
     "data": {
      "image/png": "[encoded data removed]",
      "text/plain": [
       "<Figure size 432x288 with 1 Axes>"
      ]
     },
     "metadata": {
      "needs_background": "light"
     },
     "output_type": "display_data"
    }
   ],
   "source": [
    "grades = np.round(grades, 0)\n",
    "plt.hist(grades)"
   ]
  },
  {
   "cell_type": "code",
   "execution_count": null,
   "metadata": {},
   "outputs": [],
   "source": []
  },
  {
   "cell_type": "code",
   "execution_count": null,
   "metadata": {},
   "outputs": [],
   "source": []
  },
  {
   "cell_type": "code",
   "execution_count": null,
   "metadata": {},
   "outputs": [],
   "source": []
  },
  {
   "cell_type": "code",
   "execution_count": null,
   "metadata": {},
   "outputs": [],
   "source": []
  },
  {
   "cell_type": "markdown",
   "metadata": {},
   "source": [
    "[1] https://careersportal.ie/school/lc_subject_detail.php?course_name=Spanish&search1=spanish&search2=&course_id=31&lc_subject_group=4\n",
    "\n",
    "[2] https://stats.idre.ucla.edu/other/mult-pkg/whatstat/what-is-the-difference-between-categorical-ordinal-and-numerical-variables/\n",
    "\n",
    "[3]. https://en.wikipedia.org/wiki/Count_data#:~:text=5%20Further%20reading-,Count%20variables,used%20to%20represent%20its%20distribution."
   ]
  },
  {
   "cell_type": "code",
   "execution_count": null,
   "metadata": {},
   "outputs": [],
   "source": []
  }
 ],
 "metadata": {
  "kernelspec": {
   "display_name": "Python 3",
   "language": "python",
   "name": "python3"
  },
  "language_info": {
   "codemirror_mode": {
    "name": "ipython",
    "version": 3
   },
   "file_extension": ".py",
   "mimetype": "text/x-python",
   "name": "python",
   "nbconvert_exporter": "python",
   "pygments_lexer": "ipython3",
   "version": "3.7.4"
  }
 },
 "nbformat": 4,
 "nbformat_minor": 2
}
