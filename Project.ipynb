{
 "cells": [
  {
   "cell_type": "markdown",
   "metadata": {},
   "source": [
    "## Programming for Data Analysis Project\n",
    "#### Hayley Doherty G00387849\n",
    "---"
   ]
  },
  {
   "cell_type": "markdown",
   "metadata": {},
   "source": [
    "My sister is a Spanish teacher in the local secondary school and so for this project I decided to ask her what factors were most influential in the grade a student go tin their mock LC exmas and simulated these factors to determine if there was any correlations between them and the grades received. The 3 factors I chose are the number of absences from class during the semester, the sex of the student and the number of hours per week the student studies outside of school. \n",
    "\n",
    "looking at hiigher level grades over past 3 years since her first year of teaching.\n",
    "LC higher level marked from H1-H8.\n",
    "grades are awarded according to a bell-shaped curve and so are normally distributed [1]. as the data for this vairable can only be between 1-8 it is called a discrete variable.\n",
    "the number of absences from class is a count variable. it takes only non-negative integer values. when a count variable is treated as a random variable such as this, the poisson distribution can be used to represent its distribution.\n",
    "the sex of the student is a categorical variable. this is a variable that has 2 or more categories with no intrinsicordering bwtween them [2].\n",
    "\n",
    "similar to the number of absences, the number of hours per week a student studies outside of school is a count variable and ccan only take a non-negative integer value [3]."
   ]
  },
  {
   "cell_type": "code",
   "execution_count": 2,
   "metadata": {},
   "outputs": [],
   "source": [
    "import matplotlib.pyplot as plt\n",
    "import numpy as np\n",
    "from numpy.random import default_rng\n",
    "rng = default_rng()"
   ]
  },
  {
   "cell_type": "code",
   "execution_count": 5,
   "metadata": {},
   "outputs": [
    {
     "data": {
      "image/png": "[encoded data removed]",
      "text/plain": [
       "<Figure size 432x288 with 1 Axes>"
      ]
     },
     "metadata": {
      "needs_background": "light"
     },
     "output_type": "display_data"
    }
   ],
   "source": [
    "labels = ['H1', 'H2', 'H3', 'H4', 'H5', 'H6', 'H7', 'H8']\n",
    "means = [7.7, 16.2, 17.9, 19.9, 18.1, 12.9, 5.8, 1.5]\n",
    "x = np.arange(len(labels))\n",
    "width = 0.75\n",
    "\n",
    "ax = plt.subplot()\n",
    "rects = ax.bar(x, means, width)\n",
    "ax.set_xticks(x)\n",
    "ax.set_xticklabels(labels)\n",
    "\n",
    "plt.show()\n"
   ]
  },
  {
   "cell_type": "code",
   "execution_count": 6,
   "metadata": {},
   "outputs": [],
   "source": [
    "from scipy.stats import truncnorm\n",
    "\n",
    "def get_truncated_normal(mean=0, sd=1, low=0, upp=10):\n",
    "    return truncnorm(\n",
    "        (low - mean) / sd, (upp - mean) / sd, loc=mean, scale=sd)"
   ]
  },
  {
   "cell_type": "markdown",
   "metadata": {},
   "source": [
    "[4]"
   ]
  },
  {
   "cell_type": "code",
   "execution_count": 34,
   "metadata": {},
   "outputs": [],
   "source": [
    "x = get_truncated_normal(4, 1.5, 1, 8)\n",
    "results = x.rvs(105)"
   ]
  },
  {
   "cell_type": "code",
   "execution_count": 35,
   "metadata": {},
   "outputs": [
    {
     "data": {
      "text/plain": [
       "array([1, 1, 1, 2, 2, 2, 2, 2, 2, 2, 2, 2, 2, 3, 3, 3, 3, 3, 3, 3, 3, 3,\n",
       "       3, 3, 3, 3, 3, 3, 3, 3, 3, 3, 3, 3, 3, 3, 3, 3, 4, 4, 4, 4, 4, 4,\n",
       "       4, 4, 4, 4, 4, 4, 4, 4, 4, 4, 4, 4, 4, 4, 4, 4, 4, 4, 4, 4, 4, 4,\n",
       "       4, 4, 4, 5, 5, 5, 5, 5, 5, 5, 5, 5, 5, 5, 5, 5, 5, 5, 5, 5, 5, 6,\n",
       "       6, 6, 6, 6, 6, 6, 6, 6, 6, 7, 7, 7, 7, 7, 7, 7, 8])"
      ]
     },
     "execution_count": 35,
     "metadata": {},
     "output_type": "execute_result"
    }
   ],
   "source": [
    "results = np.round(results, 0)\n",
    "results= results.astype(int) \n",
    "results\n",
    "results.sort()\n",
    "results"
   ]
  },
  {
   "cell_type": "code",
   "execution_count": 36,
   "metadata": {},
   "outputs": [
    {
     "data": {
      "text/plain": [
       "{1: 3, 2: 10, 3: 25, 4: 31, 5: 18, 6: 10, 7: 7, 8: 1}"
      ]
     },
     "execution_count": 36,
     "metadata": {},
     "output_type": "execute_result"
    }
   ],
   "source": [
    "def CountFrequency(mylist):\n",
    "    freq = {} \n",
    "    for item in mylist: \n",
    "        if (item in freq): \n",
    "            freq[item] += 1\n",
    "        else: \n",
    "            freq[item] = 1\n",
    "    return freq\n",
    "results = CountFrequency(results)\n",
    "results"
   ]
  },
  {
   "cell_type": "code",
   "execution_count": 37,
   "metadata": {},
   "outputs": [
    {
     "data": {
      "text/plain": [
       "[3, 10, 25, 31, 18, 10, 7, 1]"
      ]
     },
     "execution_count": 37,
     "metadata": {},
     "output_type": "execute_result"
    }
   ],
   "source": [
    "results1 = list(results.values())\n",
    "results1"
   ]
  },
  {
   "cell_type": "code",
   "execution_count": 38,
   "metadata": {},
   "outputs": [
    {
     "data": {
      "image/png": "[encoded data removed]",
      "text/plain": [
       "<Figure size 432x288 with 1 Axes>"
      ]
     },
     "metadata": {
      "needs_background": "light"
     },
     "output_type": "display_data"
    }
   ],
   "source": [
    "fig = plt.figure()\n",
    "ax = fig.add_axes([0,0,1,1])\n",
    "grades = ['H1', 'H2', 'H3', 'H4', 'H5', 'H6', 'H7', 'H8']\n",
    "results\n",
    "ax.bar(grades, results1)\n",
    "plt.show()"
   ]
  },
  {
   "cell_type": "code",
   "execution_count": 39,
   "metadata": {},
   "outputs": [
    {
     "data": {
      "text/plain": [
       "[3, 10, 25, 31, 18, 10, 7, 1]"
      ]
     },
     "execution_count": 39,
     "metadata": {},
     "output_type": "execute_result"
    }
   ],
   "source": [
    "results1"
   ]
  },
  {
   "cell_type": "code",
   "execution_count": 48,
   "metadata": {},
   "outputs": [
    {
     "data": {
      "text/plain": [
       "[2.857142857142857,\n",
       " 9.523809523809524,\n",
       " 23.809523809523807,\n",
       " 29.523809523809526,\n",
       " 17.142857142857142,\n",
       " 9.523809523809524,\n",
       " 6.666666666666667,\n",
       " 0.9523809523809524]"
      ]
     },
     "execution_count": 48,
     "metadata": {},
     "output_type": "execute_result"
    }
   ],
   "source": [
    "percentages = []\n",
    "for x in results1:\n",
    "    x = x/105*100\n",
    "    percentages.append(x)\n",
    "percentages"
   ]
  },
  {
   "cell_type": "markdown",
   "metadata": {},
   "source": [
    "The distribution of sex in secondary schools in ireland is roughly equal with 27698 boys and 28373 girls sitting their leaving cert exams in 2019 [5]."
   ]
  },
  {
   "cell_type": "code",
   "execution_count": 52,
   "metadata": {},
   "outputs": [
    {
     "data": {
      "text/plain": [
       "array([0, 1, 0, 1, 1, 0, 1, 0, 1, 0, 1, 0, 1, 0, 1, 1, 0, 1, 0, 1, 0, 1,\n",
       "       1, 1, 1, 1, 1, 1, 0, 1, 0, 1, 1, 1, 0, 0, 1, 1, 0, 0, 0, 0, 1, 1,\n",
       "       1, 0, 1, 1, 1, 0, 0, 1, 0, 1, 0, 1, 0, 1, 0, 1, 0, 0, 0, 1, 1, 0,\n",
       "       0, 1, 1, 0, 0, 1, 1, 0, 0, 0, 0, 1, 0, 0, 0, 0, 1, 1, 1, 1, 0, 0,\n",
       "       0, 1, 1, 0, 0, 0, 1, 1, 1, 1, 0, 0, 1, 0, 0, 0, 1], dtype=int64)"
      ]
     },
     "execution_count": 52,
     "metadata": {},
     "output_type": "execute_result"
    }
   ],
   "source": [
    "sex = rng.integers(1, size = 105, endpoint = True)\n",
    "sex"
   ]
  },
  {
   "cell_type": "markdown",
   "metadata": {},
   "source": [
    "number of absences and number of hours studied per week are count variables and follow the Poisson distribution. The poisson distribution is the discrete probability distribution of an event happening in a given time period. \n",
    "\n",
    "105 students x 167 teaching days = 17535 days\n",
    "7.9% = 1385\n",
    "13.193"
   ]
  },
  {
   "cell_type": "code",
   "execution_count": 15,
   "metadata": {},
   "outputs": [
    {
     "data": {
      "text/plain": [
       "array([25,  8, 11, 14, 22, 19, 13, 10, 24, 11,  1,  4, 18, 30, 29, 26, 36,\n",
       "        4, 16,  1, 12,  4,  7,  0,  0, 15, 12, 10, 20,  9, 15, 14, 17, 14,\n",
       "       11,  7, 19,  9,  0, 12,  1,  2,  8, 24,  7, -5, 26, 25, 13, 11,  2,\n",
       "        9, 23, 16, 14, 12, 32,  6, 17, 14,  4,  8, 15, 14,  5,  2, 18, 10,\n",
       "       10,  3, 20,  9, 19, 11, 10, 13,  8, -4, 21, 19, 12,  8,  0, 22, 19,\n",
       "       26,  5, 19, 18,  7, 15, 22, 33,  9, 21,  7, 22, 13,  3, 10, 16, 16,\n",
       "       21, 12,  7])"
      ]
     },
     "execution_count": 15,
     "metadata": {},
     "output_type": "execute_result"
    }
   ],
   "source": [
    "absent = rng.normal(13, 8, 105)\n",
    "absent= absent.astype(int)\n",
    "#absent=absent - min(absent)\n",
    "absent"
   ]
  },
  {
   "cell_type": "code",
   "execution_count": 13,
   "metadata": {},
   "outputs": [
    {
     "data": {
      "text/plain": [
       "13.371428571428572"
      ]
     },
     "execution_count": 13,
     "metadata": {},
     "output_type": "execute_result"
    }
   ],
   "source": [
    "np.mean(absent)"
   ]
  },
  {
   "cell_type": "code",
   "execution_count": 34,
   "metadata": {},
   "outputs": [
    {
     "data": {
      "text/plain": [
       "array([11.73806547,  7.36810223, 13.71967178,  9.25828947,  5.55001002,\n",
       "       10.10186912,  5.81255437,  7.41637203,  6.59479707, 19.43379685,\n",
       "        6.11286435, 51.8282233 , 15.31965874,  6.62353763,  6.39883754,\n",
       "       14.99949495, 10.82250815,  7.17461101,  5.76410537, 18.23127407,\n",
       "        9.43240454,  8.92573726, 13.88413548, 12.77104515, 18.74946377,\n",
       "        9.44955122, 14.46784374, 12.96036676,  9.88265809, 12.08151327,\n",
       "       21.22593364, 10.80297701, 18.81402536, 17.59059475, 13.59262614,\n",
       "        7.54457224,  9.04196143, 22.39077643, 10.97731937,  3.07300866,\n",
       "        8.43083002, 14.26423159, 17.69676074, 11.85215697, 19.56922454,\n",
       "       10.25705607, 17.36736352, 16.36942945, 19.21037335,  8.01838258,\n",
       "       20.77707344, 13.62599453, 13.38739473, 29.05700678, 10.89916299,\n",
       "        5.32106242, 17.7863665 ,  7.34009149, 16.95267371, 11.82057974,\n",
       "        5.20472843, 14.7569009 ,  7.18083619,  9.61942188,  5.55899833,\n",
       "       25.26799819, 18.72180012, 11.84654924,  9.61946085, 21.4189884 ,\n",
       "       29.78656754,  6.04511191,  3.15840313,  7.66860318, 12.30563761,\n",
       "       18.03415324, 18.36618016,  9.22371073, 17.83310804,  6.35996055,\n",
       "       17.53810054, 28.16140792, 17.18869829, 13.85496853, 13.23950562,\n",
       "        7.36319173, 35.67591979, 24.43821659, 13.05463016,  8.1558378 ,\n",
       "       18.95342939,  8.41485313, 12.06895818, 29.69667543, 17.59921529,\n",
       "        5.4907301 ,  7.37981933,  6.96241639, 15.22770651, 23.56513892,\n",
       "       16.64423912,  8.53093542, 15.19882855, 17.14486357, 10.1647969 ])"
      ]
     },
     "execution_count": 34,
     "metadata": {},
     "output_type": "execute_result"
    }
   ],
   "source": [
    "x = rng.gamma(4.5, 3, 105)\n",
    "x"
   ]
  },
  {
   "cell_type": "code",
   "execution_count": 35,
   "metadata": {},
   "outputs": [
    {
     "data": {
      "text/plain": [
       "13.691624522308329"
      ]
     },
     "execution_count": 35,
     "metadata": {},
     "output_type": "execute_result"
    }
   ],
   "source": [
    "np.mean(x)"
   ]
  },
  {
   "cell_type": "code",
   "execution_count": 43,
   "metadata": {},
   "outputs": [
    {
     "data": {
      "text/plain": [
       "array([15.28080147, 10.04043115, 10.85156341, 13.99443712,  9.7728476 ,\n",
       "       12.29520664, 21.00215847,  8.39018941, 17.94421896, 14.68809022,\n",
       "       13.15937889, -2.04634708,  6.04368775, 14.26177282,  7.54953275,\n",
       "       16.44011624, 13.45627541, 21.03097437, 13.18009789, 10.44160447,\n",
       "       -0.85119521,  7.38401663, 17.40830007,  7.18849494, 13.98678166,\n",
       "       14.72348342, 12.5183036 , 19.9062968 , 11.79024944, 13.60482009,\n",
       "       12.7682678 , 16.07212549, 15.15376612, 14.05050012,  8.3039293 ,\n",
       "        7.74823346, 13.98502202,  8.82837077, 13.370988  , 15.84044068,\n",
       "       15.65083533, 11.67320611, 13.21099742, 18.73424694, 12.28208505,\n",
       "       13.20852497, 11.52733073, 11.95749272, 15.98736945, 12.98778589,\n",
       "       15.45780591,  7.25063618, 15.73452762, 14.08968833, 18.99384021,\n",
       "       13.81104567, 12.53091852, 12.02246904, 14.31533186,  9.05266032,\n",
       "       10.73909834, 13.40960113, 14.42965751, 10.22333509, 13.83930476,\n",
       "       13.30313059, 14.73464331, 16.44781956, 19.76860442, 22.17833567,\n",
       "        7.97220804,  7.70341853, 15.38905953, 14.46668389, 20.2139661 ,\n",
       "       15.46646781, 17.37750973, 11.00997273, 12.98297956, 13.03360262,\n",
       "       14.25928385, 18.01633125,  1.00838433, 11.13693327, 24.7537767 ,\n",
       "       11.29178492,  8.38672022, 18.24900305, 11.21891579,  9.47923124,\n",
       "       14.24322935, 12.8115594 , 11.32121181, 17.6164056 , 13.42916086,\n",
       "       13.50829406, 12.85948658, 23.45109194, 14.3292133 ,  0.65614157,\n",
       "       10.83741908, 16.06999519, 11.36029729, 10.26223458, 11.73627685])"
      ]
     },
     "execution_count": 43,
     "metadata": {},
     "output_type": "execute_result"
    }
   ],
   "source": [
    "y = rng.laplace(13, 3, 105)\n",
    "y"
   ]
  },
  {
   "cell_type": "code",
   "execution_count": 44,
   "metadata": {},
   "outputs": [
    {
     "data": {
      "text/plain": [
       "13.03827440357771"
      ]
     },
     "execution_count": 44,
     "metadata": {},
     "output_type": "execute_result"
    }
   ],
   "source": [
    "np.mean(y)"
   ]
  },
  {
   "cell_type": "code",
   "execution_count": 46,
   "metadata": {},
   "outputs": [
    {
     "data": {
      "text/plain": [
       "array([ 6.93067683, 15.27938711, 12.17045333, 15.82009913, 16.5423289 ,\n",
       "       15.50758349, 22.81717265, 10.72685305, 14.22640213, 11.26266346,\n",
       "       16.74236761,  9.14242732, 11.63444502, 12.8469069 ,  6.61263418,\n",
       "       13.67220203, 11.76753776,  3.27589183, 19.24589807, 19.36015373,\n",
       "       15.04686484,  9.92782168,  8.78105573, 17.78187601, 18.96707989,\n",
       "        7.35764841,  5.31179472,  0.32774883, 10.71763287, 17.02339045,\n",
       "       14.02920446, 16.42659343, 18.66419182, 16.57468917,  5.18519028,\n",
       "        1.78705468,  9.78244824, 17.93466093, 10.05116271, 16.80884078,\n",
       "       10.61076858, 13.17284519, 12.8133221 , 18.05726046,  8.02798045,\n",
       "       11.65842258,  2.24185539, 20.26202248,  9.23452113, 15.64988907,\n",
       "       24.31803189, 14.27326458, 10.92484934,  8.88558742, 16.32289558,\n",
       "       25.41791907,  8.2277557 ,  8.84730457, 11.18747973, 14.1893699 ,\n",
       "        8.36807161, 16.92159374, 15.03194504, 15.02112172, 12.86049554,\n",
       "        6.74927096, 12.49796502, 17.4569203 , 18.35713765, 15.45771717,\n",
       "       13.4742966 , 10.6957658 , 18.60331295, 17.30993991, 15.83178881,\n",
       "       18.61809467, 14.70372643,  9.54148575,  6.8033969 ,  4.02389702,\n",
       "       14.60462813, 14.45193056,  6.18433921, 13.68161854, 13.62385852,\n",
       "        7.26704129,  3.48643947, 15.48270525, 14.21065194, 16.69231817,\n",
       "        6.80630827, 10.72813416, 10.90052439, 16.29733559, 12.29246413,\n",
       "       20.99794854, 11.50146773, 15.6900201 , 21.48080698,  8.02196926,\n",
       "       15.32650314, 13.57826922, 13.13414836, 13.08835859, 14.74404961])"
      ]
     },
     "execution_count": 46,
     "metadata": {},
     "output_type": "execute_result"
    }
   ],
   "source": [
    "a = rng.logistic(13, 3, 105)\n",
    "a"
   ]
  },
  {
   "cell_type": "code",
   "execution_count": 47,
   "metadata": {},
   "outputs": [
    {
     "data": {
      "text/plain": [
       "12.961868213630812"
      ]
     },
     "execution_count": 47,
     "metadata": {},
     "output_type": "execute_result"
    }
   ],
   "source": [
    "np.mean(a)"
   ]
  },
  {
   "cell_type": "code",
   "execution_count": 55,
   "metadata": {},
   "outputs": [
    {
     "data": {
      "text/plain": [
       "array([ 3., -1.,  8., 20., 24., 24.,  7., 22., 22., 10.,  7., 10., 28.,\n",
       "        7.,  6., 28.,  2., -5., 13., 15., 17., 31., 11., 17.,  7., 19.,\n",
       "       20., 27., 23., 13., 17., 10.,  5.,  4., 13., 21.,  4.,  6., 17.,\n",
       "       19.,  9.,  8., 19., 21., 10., 16., -5.,  9., 12., 17., 17., 36.,\n",
       "       15.,  7.,  4.,  3.,  7., 15., 12.,  8., 16., -3.,  9.,  7., 12.,\n",
       "       25., 22.,  4., 19., 18., 10., -1., 14.,  9., 16.,  3., 18.,  6.,\n",
       "       27.,  1., 18., 16.,  4.,  8., 19., 32.,  9.,  4.,  8., 29., 29.,\n",
       "        3., 17., 12.,  8., 16., -2., 23.,  1.,  6., -1., 16., -1., 23.,\n",
       "       20.])"
      ]
     },
     "execution_count": 55,
     "metadata": {},
     "output_type": "execute_result"
    }
   ],
   "source": [
    "b = rng.logistic(13, 6, 105)\n",
    "b= np.round(b, 0)\n",
    "b"
   ]
  },
  {
   "cell_type": "code",
   "execution_count": 51,
   "metadata": {},
   "outputs": [
    {
     "data": {
      "text/plain": [
       "11.78932089489376"
      ]
     },
     "execution_count": 51,
     "metadata": {},
     "output_type": "execute_result"
    }
   ],
   "source": [
    "np.mean(b)"
   ]
  },
  {
   "cell_type": "code",
   "execution_count": 9,
   "metadata": {},
   "outputs": [
    {
     "data": {
      "text/plain": [
       "array([16, 15, 20, 15, 12,  9, 14, 11, 13, 15, 20, 12, 17, 16, 18, 10, 14,\n",
       "       13, 12, 11, 10, 11, 22,  7, 14,  9, 19, 19, 13,  8,  5, 13, 13, 12,\n",
       "       10, 16, 10, 19, 14,  7, 17, 12,  8, 15,  6, 14, 13, 12, 12, 10, 13,\n",
       "        6, 17, 12, 13, 13, 17,  9, 14, 17, 12,  9, 16, 12, 13,  9, 11, 14,\n",
       "       10, 14, 10,  9, 24, 16, 15, 13, 17, 14,  9, 19,  5, 19, 15, 13, 15,\n",
       "       14, 10, 22, 13, 21, 14, 10, 15, 13, 15, 16, 11, 12,  7, 12, 14, 13,\n",
       "       17, 16,  9], dtype=int64)"
      ]
     },
     "execution_count": 9,
     "metadata": {},
     "output_type": "execute_result"
    }
   ],
   "source": [
    "c = rng.poisson(13, 105)\n",
    "c"
   ]
  },
  {
   "cell_type": "code",
   "execution_count": 10,
   "metadata": {},
   "outputs": [
    {
     "data": {
      "text/plain": [
       "13.247619047619047"
      ]
     },
     "execution_count": 10,
     "metadata": {},
     "output_type": "execute_result"
    }
   ],
   "source": [
    "np.mean(c)"
   ]
  },
  {
   "cell_type": "code",
   "execution_count": 67,
   "metadata": {},
   "outputs": [
    {
     "data": {
      "text/plain": [
       "13.9162778052274"
      ]
     },
     "execution_count": 67,
     "metadata": {},
     "output_type": "execute_result"
    }
   ],
   "source": [
    "d = rng.wald(12, 5, 105)\n",
    "d\n",
    "np.mean(d)"
   ]
  },
  {
   "cell_type": "code",
   "execution_count": 57,
   "metadata": {},
   "outputs": [
    {
     "data": {
      "text/plain": [
       "9.830086917817626"
      ]
     },
     "execution_count": 57,
     "metadata": {},
     "output_type": "execute_result"
    }
   ],
   "source": [
    "p.mean(d)"
   ]
  },
  {
   "cell_type": "code",
   "execution_count": 74,
   "metadata": {},
   "outputs": [
    {
     "data": {
      "text/plain": [
       "array([    1,    24,     1,     1,     3,     6,     3,     1,     1,\n",
       "           1,     4,     1,     1,     2,     1,     7,     1,     2,\n",
       "           1,     1,     1,     6,     3,     3,     1,     8,     2,\n",
       "           1,     1,     1,     1,     1,     1,     1,     1,     3,\n",
       "           1,     1,     1,     1,   158,     3,     1,     1,     1,\n",
       "           1,     1,     1,     1,     2,     3,     5,     1,     1,\n",
       "           3,     2,     1,     3,     1,     1,     2,     1,     1,\n",
       "          11, 14543,     5,     1,     1,     1,     1,     4,     1,\n",
       "           1,     1,     1,     1,     3,     2,     1,     1,     3,\n",
       "           1,     1,     4,    10,     1,     1,     1,     2,     1,\n",
       "           1,     1,     1,     1,     2,     1,     1,     1,     1,\n",
       "           1,     1,     1,     2,     1,     1], dtype=int64)"
      ]
     },
     "execution_count": 74,
     "metadata": {},
     "output_type": "execute_result"
    }
   ],
   "source": [
    "e = rng.zipf(2, 105)\n",
    "e\n"
   ]
  },
  {
   "cell_type": "code",
   "execution_count": 75,
   "metadata": {},
   "outputs": [
    {
     "data": {
      "text/plain": [
       "142.07619047619048"
      ]
     },
     "execution_count": 75,
     "metadata": {},
     "output_type": "execute_result"
    }
   ],
   "source": [
    "np.mean(e)"
   ]
  },
  {
   "cell_type": "code",
   "execution_count": 71,
   "metadata": {},
   "outputs": [
    {
     "data": {
      "text/plain": [
       "array([   1,    1,    1,    1,    8,    1,    1,    1,    1,    1,    1,\n",
       "          1,    1,    2,    1,    2,    2,    2,    1,    1,    3,    1,\n",
       "          2,    1,    1,    1,   19,    1,    1,    1,    2,    1,    1,\n",
       "          6,    1,    2,    3,    1,    6,    1,    1,    2,    8,    2,\n",
       "          1,    1,    8,    4,    2,    2,    7,    1,    1,    2,    1,\n",
       "          1,    1,   23,    1,    1,    1,    8, 2854,    1,    1,    1,\n",
       "          1,    1,    5,    2,    1,    2,    1,    1,    5,    2,    1,\n",
       "          1,    1,    2,    1,    2,    1,    1,    5,   35,    1,    1,\n",
       "         24,    1,    1,    1,    1,    1,    2,    1,    4,    1,    1,\n",
       "          1,    1,    1,    1,   10,   39,    1,    1,    1,    3,    3,\n",
       "          2,   35,    2,    1,    5,    1,    1,    2,    1,    3,    9,\n",
       "         12,    1,    1,    1,    1,    1,    1,    6,    1,    1,    1,\n",
       "          1,    1,    2,    1,    2,    4,    3,    3,    1,    1,    1,\n",
       "          3,    1,    2,   43,    2,    2,    1,    1,    2,    6,    3,\n",
       "         11,    1,    2,    1,    1,    1,    2,    3,    1,    1,    1,\n",
       "          1,    1,    6,    1,    1,    2,    2,   17,    1,    1,    1,\n",
       "          1,    1,    1,    1,    1,    2,    2,    1,    2,    1,    7,\n",
       "          1,    2,    1,    1,   13,    4,    1,    1,    2,    1,    1,\n",
       "          1,   40,    2,    2,   56,    1,    1,    3,    3,    1,    5,\n",
       "         16,    1,   10,    1,    2,    3,    1,    1,    1,    1,    1,\n",
       "          7,    1,    2,    4,    1,    1,    1,    1,    1,    1,    1,\n",
       "          1,    4,    1,    1,    1,    1,    1,    1,    1,    1,    1,\n",
       "          1,    1,    1,    3,    1,    1,    1,    1,    2,    2,    1,\n",
       "          1,    2,    2,    4,    1,    4,    1,    5,    3,    1,    1,\n",
       "          4,    1,    1,    1,    2,    1,    1,    2,    1,    1,    1,\n",
       "          5,    3,    1,    1,    1,    1,    1,    1,    7,    5,    1,\n",
       "          2,    1,    4,    9,    1,    2,    2,    1,    1,    1,    1,\n",
       "          1,    1,    2,    1,    1,    1,    1,    1,    1,    4,    1,\n",
       "          1,    1,    2,    1,    6,    1,    1,    4,    3,   47,    1,\n",
       "          1,    1,    1,    2,    1,  185,    3,    1,    2,    2,    1,\n",
       "          3,    1,    2,    6,    2,   44,    1,   19,    1,    2,    1,\n",
       "          3,    1,    1,    7,    5,    1,    1,    1,    1,    5,    1,\n",
       "          1,    1,    1,    1,    1,    3,    1,    1,    1,    1,    2,\n",
       "          1,    1,    1,    1,   11,    1,    1,    2,    1,   60,    1,\n",
       "          1,    1,    1,   14,    4,    3,    1,    1,    2,    6,    1,\n",
       "          1,    1,    1,    1,    1,    1,    1,    3,    1,    1,    1,\n",
       "          1,    1,    5,   85,    1,    5,    3,    1,    1,    1,    7,\n",
       "          1,    1,    1,    1,    1,    1,    2,    1,    3,    1,    1,\n",
       "          1,    3,    1,    2,    2,    1,  130,    1,    1,    1,  125,\n",
       "          1,    1,    1,    1,    1,    1,    1,    4,    5,    3,    2,\n",
       "          1,    3,    3,    1,    1,    1,    1,    1,    7,    1,    1,\n",
       "          1,    3,    1,   14,    1,    2,    1,    1,    2,    1,    1,\n",
       "          1,    1,    1,    1,    1,    1,    1,    1,    1,    2,    2,\n",
       "          1,    1,    1,    1,    1,    6,    1,    1,    4,    1,    3,\n",
       "         26,    1,    1,    1,    1,    3,    1,    1,    1,    2,    1,\n",
       "          2,    1,   12,    1,    2,    1,    1,    1,    1,    4,   15,\n",
       "          7,    1,    1,    2,    1,   30,    1,    3,    1,    1,    1,\n",
       "          1,    3,    2,    2,    1,    1,    1,    1,    3,    5,    1,\n",
       "          3,    1,    2,    1,    1,    7,    1,    2,    8,    7,    2,\n",
       "          5,    5,    3,    1,    1,    1,   38,    1,    2,    1,    1,\n",
       "          1,    1,    1,    1,    2,    1,    1,    1,    1,    1,    1,\n",
       "          1,    2,    1,    1,    2,    1,    2,    1,    1,    1,    1,\n",
       "          1,    7,    1,    1,   16,    1,    1,    1,    1,    5,    4,\n",
       "          1,    1,    1,    1,    2,    6,    9,    2,    1,    1,    1,\n",
       "          1,    2,    1,    4,    5,    1,    1,    2,    1,    3,    3,\n",
       "          1,    3,    1,    1,    6,    1,    1,    2,    1,    2,    1,\n",
       "          3,    2,    1,    1,   19,    7,    2,    1,    6,    1,    1,\n",
       "          5,    1,    6,    6,    2,   35,    1,    1,    1,    1,    1,\n",
       "          2,    1,    1,    3,   32,    1,    4,   15,    2,    1,    1,\n",
       "          1,    7,    4,    5,    2,    4,    1,    3,    1,    1,  152,\n",
       "          7,    9,    4,    1,    1,    2,    1,    1,    1,    1,    1,\n",
       "          3,    3,    1,    1,    2,    1,    2,    1,    6,    1,    3,\n",
       "          1,    1,   16,   17,    1,    2,    1,    1,    4,    2,    4,\n",
       "          1,    1,    1,   10,    1,    1,    1,    1,    1,    1,    3,\n",
       "          1,    1,    1,    3,    2,    3,    1,    3,    1,    1,    1,\n",
       "         69,    1,   20,    1,    1,   10,    1,    1,    2,    3,    2,\n",
       "          1,    3,    1,    1,    1,    2,    1,    3,    1,    1,    4,\n",
       "          1,    1,   16,    3,    1,    1,    2,    2,    1,    7,    7,\n",
       "          2,    2,    1,   60,    1,    1,    1,    1,    1,    1,    6,\n",
       "          1,    1,    1,    1,    1,    3,    1,    1,    7,    1,    1,\n",
       "          1,    2,    1,    1,    1,    1,    1,    5,    1,    1,    1,\n",
       "          1,    1,    1,    1,    1,    1,    1,    1,    1,    2,    6,\n",
       "          1,    1,    4,    1,    1,    4,    1,   10,    1,    3,    2,\n",
       "          3,    1,    3,    2,    3,    3,    1,    9,    1,    1,    3,\n",
       "          2,    1,    1,    1,    1,    1,    2,    2,    1,    2,    1,\n",
       "          3,    1,    1,    1,   44,    1,    1,    1,    2,    1,    1,\n",
       "          6,    1,    4,    6,    1,    1,    1,    1,    1,    1,    7,\n",
       "          1,    1,    1,    1,    1,    1,    1,    1,    1,    1,    1,\n",
       "          2,    1,    1,    1,    1,    8,    1,    1,    1,    1,    7,\n",
       "          2,    1,    1,    3,    1,    5,    1,    1,    1,    2,    1,\n",
       "          2,    2,    1,   45,    2,    1,    1,    1,    1,    2,   21,\n",
       "          2,    8,    1,    1,    1,    2,    1,    1,    1,    1,    1,\n",
       "          1,    1,    2,    1,    1,    4,    4,    1,    1,    1,    1,\n",
       "          1,    1,    1,    1,    1,    1,    2,    1,    2,    1,    1,\n",
       "          2,    2,    1,    3,    1,    1,    1,    3,   10,    1,    8,\n",
       "          1,    1,    1,    3,    1,    1,    9,    2,    2,    1,    3,\n",
       "          3,    2,    1,    8,    2,    3,    2,    2,    1,    1,    5,\n",
       "          1,    2,    2,    1,    1,    4,    1,    1,    1,    1,    1,\n",
       "         51,    1,    1,    8,    1,    1,    6,    1,    1,    1,    4,\n",
       "          1,    2,    1,    2,    3,    1,    1,    1,    4,    4,    1,\n",
       "          2,    1,    4,    1,   33,    1,    4,   11,    1,    5],\n",
       "      dtype=int64)"
      ]
     },
     "execution_count": 71,
     "metadata": {},
     "output_type": "execute_result"
    }
   ],
   "source": [
    "a = 2. # parameter\n",
    "s = np.random.default_rng().zipf(a, 1000)\n",
    "s"
   ]
  },
  {
   "cell_type": "code",
   "execution_count": null,
   "metadata": {},
   "outputs": [],
   "source": []
  },
  {
   "cell_type": "code",
   "execution_count": null,
   "metadata": {},
   "outputs": [],
   "source": []
  },
  {
   "cell_type": "markdown",
   "metadata": {},
   "source": [
    "[1] https://careersportal.ie/school/lc_subject_detail.php?course_name=Spanish&search1=spanish&search2=&course_id=31&lc_subject_group=4\n",
    "\n",
    "[2] https://stats.idre.ucla.edu/other/mult-pkg/whatstat/what-is-the-difference-between-categorical-ordinal-and-numerical-variables/\n",
    "\n",
    "[3]. https://en.wikipedia.org/wiki/Count_data#:~:text=5%20Further%20reading-,Count%20variables,used%20to%20represent%20its%20distribution.\n",
    "\n",
    "[4]. https://docs.scipy.org/doc/scipy-0.17.0/reference/generated/scipy.stats.truncnorm.html\n",
    "\n",
    "[5]. Women and Men in Ireland 2019, https://www.cso.ie/en/releasesandpublications/ep/p-wamii/womenandmeninireland2019/education/"
   ]
  },
  {
   "cell_type": "code",
   "execution_count": null,
   "metadata": {},
   "outputs": [],
   "source": []
  }
 ],
 "metadata": {
  "kernelspec": {
   "display_name": "Python 3",
   "language": "python",
   "name": "python3"
  },
  "language_info": {
   "codemirror_mode": {
    "name": "ipython",
    "version": 3
   },
   "file_extension": ".py",
   "mimetype": "text/x-python",
   "name": "python",
   "nbconvert_exporter": "python",
   "pygments_lexer": "ipython3",
   "version": "3.7.4"
  }
 },
 "nbformat": 4,
 "nbformat_minor": 2
}
