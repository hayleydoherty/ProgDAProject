{
 "cells": [
  {
   "cell_type": "markdown",
   "metadata": {},
   "source": [
    "## Programming for Data Analysis Project\n",
    "#### Hayley Doherty G00387849\n",
    "---"
   ]
  },
  {
   "cell_type": "markdown",
   "metadata": {},
   "source": [
    "My sister is a Spanish teacher in the local secondary school and so for this project I decided to ask her what factors were most influential in the grade a student go tin their mock LC exmas and simulated these factors to determine if there was any correlations between them and the grades received. The 3 factors I chose are the number of absences from class during the semester, the sex of the student and the number of hours per week the student studies outside of school. \n",
    "\n",
    "looking at hiigher level grades over past 3 years since her first year of teaching.\n",
    "LC higher level marked from H1-H8.\n",
    "grades are awarded according to a bell-shaped curve and so are normally distributed [1]. as the data for this vairable can only be between 1-8 it is called a discrete variable.\n",
    "the number of absences from class is a count variable. it takes only non-negative integer values. when a count variable is treated as a random variable such as this, the poisson distribution can be used to represent its distribution.\n",
    "the sex of the student is a categorical variable. this is a variable that has 2 or more categories with no intrinsicordering bwtween them [2].\n",
    "\n",
    "similar to the number of absences, the number of hours per week a student studies outside of school is a count variable and ccan only take a non-negative integer value [3]."
   ]
  },
  {
   "cell_type": "code",
   "execution_count": 4,
   "metadata": {},
   "outputs": [],
   "source": [
    "import matplotlib.pyplot as plt\n",
    "import numpy as np\n",
    "from numpy.random import default_rng\n",
    "rng = default_rng()"
   ]
  },
  {
   "cell_type": "code",
   "execution_count": 5,
   "metadata": {},
   "outputs": [
    {
     "data": {
      "image/png": "[encoded data removed]",
      "text/plain": [
       "<Figure size 432x288 with 1 Axes>"
      ]
     },
     "metadata": {
      "needs_background": "light"
     },
     "output_type": "display_data"
    }
   ],
   "source": [
    "labels = ['H1', 'H2', 'H3', 'H4', 'H5', 'H6', 'H7', 'H8']\n",
    "means = [7.7, 16.2, 17.9, 19.9, 18.1, 12.9, 5.8, 1.5]\n",
    "x = np.arange(len(labels))\n",
    "width = 0.75\n",
    "\n",
    "ax = plt.subplot()\n",
    "rects = ax.bar(x, means, width)\n",
    "ax.set_xticks(x)\n",
    "ax.set_xticklabels(labels)\n",
    "\n",
    "plt.show()\n"
   ]
  },
  {
   "cell_type": "code",
   "execution_count": 6,
   "metadata": {},
   "outputs": [],
   "source": [
    "from scipy.stats import truncnorm\n",
    "\n",
    "def get_truncated_normal(mean=0, sd=1, low=0, upp=10):\n",
    "    return truncnorm(\n",
    "        (low - mean) / sd, (upp - mean) / sd, loc=mean, scale=sd)"
   ]
  },
  {
   "cell_type": "markdown",
   "metadata": {},
   "source": [
    "[4]"
   ]
  },
  {
   "cell_type": "code",
   "execution_count": 34,
   "metadata": {},
   "outputs": [],
   "source": [
    "x = get_truncated_normal(4, 1.5, 1, 8)\n",
    "results = x.rvs(105)"
   ]
  },
  {
   "cell_type": "code",
   "execution_count": 35,
   "metadata": {},
   "outputs": [
    {
     "data": {
      "text/plain": [
       "array([1, 1, 1, 2, 2, 2, 2, 2, 2, 2, 2, 2, 2, 3, 3, 3, 3, 3, 3, 3, 3, 3,\n",
       "       3, 3, 3, 3, 3, 3, 3, 3, 3, 3, 3, 3, 3, 3, 3, 3, 4, 4, 4, 4, 4, 4,\n",
       "       4, 4, 4, 4, 4, 4, 4, 4, 4, 4, 4, 4, 4, 4, 4, 4, 4, 4, 4, 4, 4, 4,\n",
       "       4, 4, 4, 5, 5, 5, 5, 5, 5, 5, 5, 5, 5, 5, 5, 5, 5, 5, 5, 5, 5, 6,\n",
       "       6, 6, 6, 6, 6, 6, 6, 6, 6, 7, 7, 7, 7, 7, 7, 7, 8])"
      ]
     },
     "execution_count": 35,
     "metadata": {},
     "output_type": "execute_result"
    }
   ],
   "source": [
    "results = np.round(results, 0)\n",
    "results= results.astype(int) \n",
    "results\n",
    "results.sort()\n",
    "results"
   ]
  },
  {
   "cell_type": "code",
   "execution_count": 36,
   "metadata": {},
   "outputs": [
    {
     "data": {
      "text/plain": [
       "{1: 3, 2: 10, 3: 25, 4: 31, 5: 18, 6: 10, 7: 7, 8: 1}"
      ]
     },
     "execution_count": 36,
     "metadata": {},
     "output_type": "execute_result"
    }
   ],
   "source": [
    "def CountFrequency(mylist):\n",
    "    freq = {} \n",
    "    for item in mylist: \n",
    "        if (item in freq): \n",
    "            freq[item] += 1\n",
    "        else: \n",
    "            freq[item] = 1\n",
    "    return freq\n",
    "results = CountFrequency(results)\n",
    "results"
   ]
  },
  {
   "cell_type": "code",
   "execution_count": 37,
   "metadata": {},
   "outputs": [
    {
     "data": {
      "text/plain": [
       "[3, 10, 25, 31, 18, 10, 7, 1]"
      ]
     },
     "execution_count": 37,
     "metadata": {},
     "output_type": "execute_result"
    }
   ],
   "source": [
    "results1 = list(results.values())\n",
    "results1"
   ]
  },
  {
   "cell_type": "code",
   "execution_count": 38,
   "metadata": {},
   "outputs": [
    {
     "data": {
      "image/png": "[encoded data removed]",
      "text/plain": [
       "<Figure size 432x288 with 1 Axes>"
      ]
     },
     "metadata": {
      "needs_background": "light"
     },
     "output_type": "display_data"
    }
   ],
   "source": [
    "fig = plt.figure()\n",
    "ax = fig.add_axes([0,0,1,1])\n",
    "grades = ['H1', 'H2', 'H3', 'H4', 'H5', 'H6', 'H7', 'H8']\n",
    "results\n",
    "ax.bar(grades, results1)\n",
    "plt.show()"
   ]
  },
  {
   "cell_type": "code",
   "execution_count": 39,
   "metadata": {},
   "outputs": [
    {
     "data": {
      "text/plain": [
       "[3, 10, 25, 31, 18, 10, 7, 1]"
      ]
     },
     "execution_count": 39,
     "metadata": {},
     "output_type": "execute_result"
    }
   ],
   "source": [
    "results1"
   ]
  },
  {
   "cell_type": "code",
   "execution_count": 48,
   "metadata": {},
   "outputs": [
    {
     "data": {
      "text/plain": [
       "[2.857142857142857,\n",
       " 9.523809523809524,\n",
       " 23.809523809523807,\n",
       " 29.523809523809526,\n",
       " 17.142857142857142,\n",
       " 9.523809523809524,\n",
       " 6.666666666666667,\n",
       " 0.9523809523809524]"
      ]
     },
     "execution_count": 48,
     "metadata": {},
     "output_type": "execute_result"
    }
   ],
   "source": [
    "percentages = []\n",
    "for x in results1:\n",
    "    x = x/105*100\n",
    "    percentages.append(x)\n",
    "percentages"
   ]
  },
  {
   "cell_type": "markdown",
   "metadata": {},
   "source": [
    "The distribution of sex in secondary schools in ireland is roughly equal with 27698 boys and 28373 girls sitting their leaving cert exams in 2019 [5]."
   ]
  },
  {
   "cell_type": "code",
   "execution_count": 52,
   "metadata": {},
   "outputs": [
    {
     "data": {
      "text/plain": [
       "array([0, 1, 0, 1, 1, 0, 1, 0, 1, 0, 1, 0, 1, 0, 1, 1, 0, 1, 0, 1, 0, 1,\n",
       "       1, 1, 1, 1, 1, 1, 0, 1, 0, 1, 1, 1, 0, 0, 1, 1, 0, 0, 0, 0, 1, 1,\n",
       "       1, 0, 1, 1, 1, 0, 0, 1, 0, 1, 0, 1, 0, 1, 0, 1, 0, 0, 0, 1, 1, 0,\n",
       "       0, 1, 1, 0, 0, 1, 1, 0, 0, 0, 0, 1, 0, 0, 0, 0, 1, 1, 1, 1, 0, 0,\n",
       "       0, 1, 1, 0, 0, 0, 1, 1, 1, 1, 0, 0, 1, 0, 0, 0, 1], dtype=int64)"
      ]
     },
     "execution_count": 52,
     "metadata": {},
     "output_type": "execute_result"
    }
   ],
   "source": [
    "sex = rng.integers(1, size = 105, endpoint = True)\n",
    "sex"
   ]
  },
  {
   "cell_type": "markdown",
   "metadata": {},
   "source": [
    "number of absences and number of hours studied per week are count variables and follow the Poisson distribution. The poisson distribution is the discrete probability distribution of an event happening in a given time period. "
   ]
  },
  {
   "cell_type": "code",
   "execution_count": null,
   "metadata": {},
   "outputs": [],
   "source": []
  },
  {
   "cell_type": "code",
   "execution_count": null,
   "metadata": {},
   "outputs": [],
   "source": []
  },
  {
   "cell_type": "code",
   "execution_count": null,
   "metadata": {},
   "outputs": [],
   "source": []
  },
  {
   "cell_type": "code",
   "execution_count": null,
   "metadata": {},
   "outputs": [],
   "source": []
  },
  {
   "cell_type": "markdown",
   "metadata": {},
   "source": [
    "[1] https://careersportal.ie/school/lc_subject_detail.php?course_name=Spanish&search1=spanish&search2=&course_id=31&lc_subject_group=4\n",
    "\n",
    "[2] https://stats.idre.ucla.edu/other/mult-pkg/whatstat/what-is-the-difference-between-categorical-ordinal-and-numerical-variables/\n",
    "\n",
    "[3]. https://en.wikipedia.org/wiki/Count_data#:~:text=5%20Further%20reading-,Count%20variables,used%20to%20represent%20its%20distribution.\n",
    "\n",
    "[4]. https://docs.scipy.org/doc/scipy-0.17.0/reference/generated/scipy.stats.truncnorm.html\n",
    "\n",
    "[5]. Women and Men in Ireland 2019, https://www.cso.ie/en/releasesandpublications/ep/p-wamii/womenandmeninireland2019/education/"
   ]
  },
  {
   "cell_type": "code",
   "execution_count": null,
   "metadata": {},
   "outputs": [],
   "source": []
  }
 ],
 "metadata": {
  "kernelspec": {
   "display_name": "Python 3",
   "language": "python",
   "name": "python3"
  },
  "language_info": {
   "codemirror_mode": {
    "name": "ipython",
    "version": 3
   },
   "file_extension": ".py",
   "mimetype": "text/x-python",
   "name": "python",
   "nbconvert_exporter": "python",
   "pygments_lexer": "ipython3",
   "version": "3.7.4"
  }
 },
 "nbformat": 4,
 "nbformat_minor": 2
}
