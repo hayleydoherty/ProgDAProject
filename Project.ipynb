{
 "cells": [
  {
   "cell_type": "markdown",
   "metadata": {},
   "source": [
    "## Programming for Data Analysis Project\n",
    "#### Hayley Doherty G00387849\n",
    "---"
   ]
  },
  {
   "cell_type": "markdown",
   "metadata": {},
   "source": [
    "The real-world occurence I have chosen to base my project on is the Leaving Certificate Spanish grades obtained by students in the local seconday school where my sister teaches my sister is a Spanish teacher.  The reasons for my choice were that I could ask my sister what factors were most influential in determining the grade a student gets in their exam and also because the Examinations Commission releases statistical analysis of past grades which I could reference when determining the best distribution to use when creating my data set.  The 3 factors I chose are the number of absences from class during the school year, the sex of the student and the number of hours per week the student studies outside of school hours. \n",
    "\n",
    "The main variable I will be examining in this project is the graade received by the student in their Leaving Certificate Spanish exam which will be in the range H1-H8 (H1 being the highest grade).  Leaving Certificate grades are awarded by the State Examinations Commission according to a bell-shaped curve and so are normally distributed [1]. As the data for this vairable can only be between 1-8 it is called a discrete variable.\n",
    "\n",
    "The number of absences from school as well as the number of hours of study are also discrete variables as they take the form of non-negative integer values [2].  The sex of the student is a categorical variable.  This is a variable that has 2 or more categories with no intrinsic ordering bwtween them [3].\n"
   ]
  },
  {
   "cell_type": "code",
   "execution_count": 187,
   "metadata": {},
   "outputs": [],
   "source": [
    "import matplotlib.pyplot as plt\n",
    "import numpy as np\n",
    "from numpy.random import default_rng\n",
    "rng = default_rng()\n",
    "import pandas as pd\n",
    "import seaborn as sns\n",
    "import scipy.stats as stats"
   ]
  },
  {
   "cell_type": "markdown",
   "metadata": {},
   "source": [
    "Below is a graph of the grades obtained nationwide for the higher level Leaving Certificate Spanish exam in 2019 [6].  As you can see the shape of the graph roughly follows a bell-shaped curve suggesting the data is normally distributed."
   ]
  },
  {
   "cell_type": "code",
   "execution_count": 5,
   "metadata": {},
   "outputs": [
    {
     "data": {
      "image/png": "[encoded data removed]",
      "text/plain": [
       "<Figure size 432x288 with 1 Axes>"
      ]
     },
     "metadata": {
      "needs_background": "light"
     },
     "output_type": "display_data"
    }
   ],
   "source": [
    "labels = ['H1', 'H2', 'H3', 'H4', 'H5', 'H6', 'H7', 'H8']\n",
    "means = [7.7, 16.2, 17.9, 19.9, 18.1, 12.9, 5.8, 1.5]\n",
    "x = np.arange(len(labels))\n",
    "width = 0.75\n",
    "\n",
    "ax = plt.subplot()\n",
    "rects = ax.bar(x, means, width)\n",
    "ax.set_xticks(x)\n",
    "ax.set_xticklabels(labels)\n",
    "ax.set_title(\"Distribution of Grades for Spanish LC 2019\")\n",
    "\n",
    "plt.show()\n"
   ]
  },
  {
   "cell_type": "markdown",
   "metadata": {},
   "source": [
    "I had to determine how to create a normally distributed data set between the values 1-8 in order to generate my data for the grades variable.  To do this I used the fuction below from SciPy Stats which generates a normally distributed array from values within a defined range [4].   "
   ]
  },
  {
   "cell_type": "code",
   "execution_count": 7,
   "metadata": {},
   "outputs": [],
   "source": [
    "from scipy.stats import truncnorm\n",
    "\n",
    "def get_truncated_normal(mean=0, sd=1, low=0, upp=10):\n",
    "    return truncnorm(\n",
    "        (low - mean) / sd, (upp - mean) / sd, loc=mean, scale=sd)"
   ]
  },
  {
   "cell_type": "markdown",
   "metadata": {},
   "source": [
    "Below is the code used to generate the results for the 135 students. The mean grade is set at 4 and the standard deviation set to 1.75 as this best represented the results obtained nationally the prior year [6]. "
   ]
  },
  {
   "cell_type": "code",
   "execution_count": 62,
   "metadata": {},
   "outputs": [],
   "source": [
    "x = get_truncated_normal(4, 1.75, 1, 8)\n",
    "results = x.rvs(135)"
   ]
  },
  {
   "cell_type": "code",
   "execution_count": 63,
   "metadata": {},
   "outputs": [],
   "source": [
    "results = np.round(results, 0)\n",
    "#results= results.astype(int) \n",
    "results = sorted(results, reverse=True)\n",
    "results = np.array(results)\n",
    "results= results.astype(int) \n",
    "results = np.array(results)"
   ]
  },
  {
   "cell_type": "code",
   "execution_count": 64,
   "metadata": {},
   "outputs": [
    {
     "data": {
      "text/plain": [
       "{8: 4, 7: 6, 6: 24, 5: 24, 4: 28, 3: 27, 2: 19, 1: 3}"
      ]
     },
     "execution_count": 64,
     "metadata": {},
     "output_type": "execute_result"
    }
   ],
   "source": [
    "def CountFrequency(mylist):      #Counted the frequency for each grade which was then plotted\n",
    "    freq = {} \n",
    "    for item in mylist: \n",
    "        if (item in freq): \n",
    "            freq[item] += 1\n",
    "        else: \n",
    "            freq[item] = 1\n",
    "    return freq\n",
    "resultsfreq = CountFrequency(results)\n",
    "resultsfreq"
   ]
  },
  {
   "cell_type": "code",
   "execution_count": 65,
   "metadata": {},
   "outputs": [
    {
     "data": {
      "text/plain": [
       "[3, 19, 27, 28, 24, 24, 6, 4]"
      ]
     },
     "execution_count": 65,
     "metadata": {},
     "output_type": "execute_result"
    }
   ],
   "source": [
    "results1 = list(resultsfreq.values())\n",
    "results1.reverse() # ordering the results from highest to lowest\n",
    "results1"
   ]
  },
  {
   "cell_type": "code",
   "execution_count": 70,
   "metadata": {},
   "outputs": [
    {
     "data": {
      "image/png": "[encoded data removed]",
      "text/plain": [
       "<Figure size 432x288 with 1 Axes>"
      ]
     },
     "metadata": {
      "needs_background": "light"
     },
     "output_type": "display_data"
    }
   ],
   "source": [
    "fig = plt.figure()\n",
    "ax = fig.add_axes([0,0,1,1])\n",
    "grades = ['H1', 'H2', 'H3', 'H4', 'H5', 'H6', 'H7', 'H8']\n",
    "ax.bar(grades, results1)\n",
    "ax.set_title(\"Distribution of Grades for Spanish LC\")\n",
    "plt.show()"
   ]
  },
  {
   "cell_type": "markdown",
   "metadata": {},
   "source": [
    "The percentages of each grade obtained by the students is similar to those obtained nationwide for the Leaving Certificate in 2019, suggesting that my data set closely replicates the distribution of grades to that observed in real-life.\n",
    "\n",
    "Distribution of grades obtained in 2019: H1= 7.7%, H2= 16.2%, H3= 17.9%, H4= 19.9%, H5= 18.1%, H6= 12.9%, H7= 5.8% and H8= 1.5%."
   ]
  },
  {
   "cell_type": "code",
   "execution_count": 68,
   "metadata": {},
   "outputs": [
    {
     "data": {
      "text/plain": [
       "[2.2222222222222223,\n",
       " 14.074074074074074,\n",
       " 20.0,\n",
       " 20.74074074074074,\n",
       " 17.77777777777778,\n",
       " 17.77777777777778,\n",
       " 4.444444444444445,\n",
       " 2.9629629629629632]"
      ]
     },
     "execution_count": 68,
     "metadata": {},
     "output_type": "execute_result"
    }
   ],
   "source": [
    "percentages = []\n",
    "for x in results1:\n",
    "    x = x/135*100\n",
    "    percentages.append(x)\n",
    "percentages"
   ]
  },
  {
   "cell_type": "markdown",
   "metadata": {},
   "source": [
    "The distribution of sex in secondary schools in Ireland is roughly equal with 27,698 boys and 28,373 girls sitting their leaving cert exams in 2019.  However it seems that more girls pick Spanish as a leaving certificate subject as 3,350 girls did the Spanish exam in 2019 compared to 2,296 boys [5].  I have replicated this uneven distribution in my data by using NumPy choice to set the probability in favour of a higher number of girls, the probability for 0 representing boys is 0.4 and 0.6 for 1 which I used to represent girls."
   ]
  },
  {
   "cell_type": "code",
   "execution_count": 75,
   "metadata": {},
   "outputs": [
    {
     "data": {
      "text/plain": [
       "array([1, 0, 1, 1, 0, 1, 1, 1, 0, 1, 1, 1, 0, 0, 0, 1, 1, 0, 0, 1, 0, 1,\n",
       "       0, 1, 1, 0, 1, 1, 1, 1, 1, 1, 1, 0, 0, 1, 1, 1, 1, 1, 1, 1, 1, 1,\n",
       "       0, 1, 0, 1, 0, 0, 0, 1, 1, 0, 1, 1, 1, 0, 1, 0, 1, 0, 0, 1, 1, 1,\n",
       "       0, 1, 0, 1, 1, 1, 1, 0, 0, 1, 0, 0, 1, 1, 1, 0, 1, 0, 1, 1, 0, 1,\n",
       "       1, 0, 0, 1, 0, 0, 0, 1, 1, 1, 0, 1, 0, 1, 1, 1, 0, 1, 0, 1, 1, 0,\n",
       "       1, 1, 1, 0, 1, 1, 1, 0, 0, 1, 0, 1, 1, 1, 1, 1, 1, 0, 1, 0, 0, 0,\n",
       "       0, 0, 1])"
      ]
     },
     "execution_count": 75,
     "metadata": {},
     "output_type": "execute_result"
    }
   ],
   "source": [
    "sex = rng.choice(2, 135, p=[0.4, 0.6])\n",
    "sex= sex.astype(int)\n",
    "sex = np.array(sex)\n",
    "sex"
   ]
  },
  {
   "cell_type": "markdown",
   "metadata": {},
   "source": [
    "The average number of teaching days lost due to school absences is 7.9% which is roughly 13 absent days per student per school year [7].  This roughly follows a normal distribution however as it is impossible to have a negative number in this dataset I have to use a while loop and if statement when generating my array with NumPy to ensure there were no negative values. "
   ]
  },
  {
   "cell_type": "code",
   "execution_count": 76,
   "metadata": {},
   "outputs": [
    {
     "data": {
      "text/plain": [
       "array([ 0,  1,  1,  1,  1,  1,  2,  2,  2,  3,  3,  4,  4,  4,  5,  5,  5,\n",
       "        5,  5,  5,  5,  6,  6,  6,  6,  6,  6,  6,  7,  7,  7,  8,  8,  8,\n",
       "        8,  8,  9,  9,  9,  9,  9,  9,  9,  9, 10, 10, 10, 10, 10, 10, 10,\n",
       "       10, 11, 11, 11, 11, 11, 11, 12, 12, 12, 12, 12, 12, 12, 12, 12, 12,\n",
       "       12, 12, 12, 13, 13, 13, 13, 13, 13, 14, 14, 14, 14, 14, 15, 15, 15,\n",
       "       15, 15, 15, 15, 15, 16, 16, 16, 17, 17, 17, 17, 17, 17, 17, 18, 18,\n",
       "       18, 18, 18, 19, 19, 19, 19, 19, 19, 19, 19, 19, 19, 20, 20, 20, 20,\n",
       "       20, 21, 21, 21, 21, 21, 22, 24, 24, 24, 25, 25, 28, 28, 30, 34])"
      ]
     },
     "execution_count": 76,
     "metadata": {},
     "output_type": "execute_result"
    }
   ],
   "source": [
    "absent = []\n",
    "while len(absent) <= 134:\n",
    "    x = rng.normal(13, 8)\n",
    "    if x >= 0:\n",
    "        absent.append(x)\n",
    "absent= np.array(absent)\n",
    "absent= absent.astype(int)\n",
    "absent.sort()\n",
    "absent"
   ]
  },
  {
   "cell_type": "markdown",
   "metadata": {},
   "source": [
    "The mean value for my data set matches the average number of school absences per student observed in the real world."
   ]
  },
  {
   "cell_type": "code",
   "execution_count": 77,
   "metadata": {},
   "outputs": [
    {
     "data": {
      "text/plain": [
       "12.777777777777779"
      ]
     },
     "execution_count": 77,
     "metadata": {},
     "output_type": "execute_result"
    }
   ],
   "source": [
    "np.random.shuffle(absent)  # shuffling the array so they are randomly \n",
    "absent= absent.astype(int)  # distributed through the data set\n",
    "absent = np.array(absent)\n",
    "np.mean(absent)"
   ]
  },
  {
   "cell_type": "markdown",
   "metadata": {},
   "source": [
    "The average number of hours studied per week outside of school hours by students is 5 with a standard deviation of 1.5 hours.  The distribution also follows a normal distribution.  The reason behind using these figures was anecdotal evidence from my sister as she asked her students for me. "
   ]
  },
  {
   "cell_type": "code",
   "execution_count": 85,
   "metadata": {},
   "outputs": [
    {
     "data": {
      "text/plain": [
       "array([0, 0, 1, 1, 1, 2, 2, 2, 2, 2, 2, 2, 3, 3, 3, 3, 3, 3, 3, 3, 3, 3,\n",
       "       3, 3, 3, 3, 3, 3, 3, 3, 3, 3, 3, 3, 3, 3, 4, 4, 4, 4, 4, 4, 4, 4,\n",
       "       4, 4, 4, 4, 4, 4, 4, 4, 4, 4, 4, 4, 4, 4, 4, 4, 4, 4, 4, 4, 4, 4,\n",
       "       4, 4, 4, 5, 5, 5, 5, 5, 5, 5, 5, 5, 5, 5, 5, 5, 5, 5, 5, 5, 5, 5,\n",
       "       5, 5, 5, 5, 5, 5, 5, 5, 5, 5, 5, 5, 5, 6, 6, 6, 6, 6, 6, 6, 6, 6,\n",
       "       6, 6, 6, 6, 6, 6, 6, 6, 6, 6, 6, 6, 6, 7, 7, 7, 7, 7, 7, 7, 8, 8,\n",
       "       8, 8, 9])"
      ]
     },
     "execution_count": 85,
     "metadata": {},
     "output_type": "execute_result"
    }
   ],
   "source": [
    "# again like with absences there can't be negative values so using the same\n",
    "# code to generate a normal distribution with only positive integers\n",
    "hours = []\n",
    "while len(hours) <= 134:\n",
    "    x = rng.normal(5, 1.5)\n",
    "    if x >= 0:\n",
    "        hours.append(x)\n",
    "hours= np.array(hours)\n",
    "hours= hours.astype(int)\n",
    "hours.sort()\n",
    "hours= np.array(hours)\n",
    "hours"
   ]
  },
  {
   "cell_type": "code",
   "execution_count": 174,
   "metadata": {},
   "outputs": [
    {
     "name": "stdout",
     "output_type": "stream",
     "text": [
      "[ 16 107 113 118  87 130  79  73  95  84  99  14  51  78 126 134 124   1\n",
      "  28  74   8  40  69  50  94  66  80 120 109  13  75  77  68  34  18 119\n",
      "  86  62  64  17  44  55 105 125  12  92  59  93  53  47  88 132  37  96\n",
      "  21 103 133  42  30  57 100  70  23  45  41 128  27  83 115 104 111  82\n",
      "  52 106 131 101  71  24  63  81  35  76  60  85 135  72  10   3   7  49\n",
      " 121  20 116 110  36  33 123  15  65   6   9  19 112  22  11  46   4   2\n",
      "  48  32 122  56  91 102 127  90  67  97 117 129   5  98  38  31  43  39\n",
      " 108  58  25  54  29 114  61  26  89]\n"
     ]
    }
   ],
   "source": [
    "# Creating student numbers\n",
    "student = list(range(1, 136))\n",
    "student\n",
    "student = rng.permutation(student)\n",
    "print(student)"
   ]
  },
  {
   "cell_type": "code",
   "execution_count": 175,
   "metadata": {
    "scrolled": true
   },
   "outputs": [
    {
     "data": {
      "text/plain": [
       "array([[ 16,   8,   1,  12,   0],\n",
       "       [107,   8,   0,  18,   0],\n",
       "       [113,   8,   1,  14,   1],\n",
       "       [118,   8,   1,   1,   1],\n",
       "       [ 87,   7,   0,   7,   1],\n",
       "       [130,   7,   1,   9,   2],\n",
       "       [ 79,   7,   1,  10,   2],\n",
       "       [ 73,   7,   1,  12,   2],\n",
       "       [ 95,   7,   0,  12,   2],\n",
       "       [ 84,   7,   1,  19,   2],\n",
       "       [ 99,   6,   1,  21,   2],\n",
       "       [ 14,   6,   1,   1,   2],\n",
       "       [ 51,   6,   0,   4,   3],\n",
       "       [ 78,   6,   0,   9,   3],\n",
       "       [126,   6,   0,  10,   3],\n",
       "       [134,   6,   1,  10,   3],\n",
       "       [124,   6,   1,  11,   3],\n",
       "       [  1,   6,   0,  11,   3],\n",
       "       [ 28,   6,   0,  13,   3],\n",
       "       [ 74,   6,   1,  19,   3],\n",
       "       [  8,   6,   0,  24,   3],\n",
       "       [ 40,   6,   1,  28,   3],\n",
       "       [ 69,   6,   0,   1,   3],\n",
       "       [ 50,   6,   1,   5,   3],\n",
       "       [ 94,   6,   1,   6,   3],\n",
       "       [ 66,   6,   0,   6,   3],\n",
       "       [ 80,   6,   1,   6,   3],\n",
       "       [120,   6,   1,  12,   3],\n",
       "       [109,   6,   1,  14,   3],\n",
       "       [ 13,   6,   1,  15,   3],\n",
       "       [ 75,   6,   1,  18,   3],\n",
       "       [ 77,   6,   1,  19,   3],\n",
       "       [ 68,   6,   1,  21,   3],\n",
       "       [ 34,   6,   0,   2,   3],\n",
       "       [ 18,   5,   0,   4,   3],\n",
       "       [119,   5,   1,   5,   3],\n",
       "       [ 86,   5,   1,   8,   4],\n",
       "       [ 62,   5,   1,   9,   4],\n",
       "       [ 64,   5,   1,  10,   4],\n",
       "       [ 17,   5,   1,  10,   4],\n",
       "       [ 44,   5,   1,  12,   4],\n",
       "       [ 55,   5,   1,  12,   4],\n",
       "       [105,   5,   1,  13,   4],\n",
       "       [125,   5,   1,  15,   4],\n",
       "       [ 12,   5,   0,  16,   4],\n",
       "       [ 92,   5,   1,  18,   4],\n",
       "       [ 59,   5,   0,  19,   4],\n",
       "       [ 93,   5,   1,  25,   4],\n",
       "       [ 53,   5,   0,  28,   4],\n",
       "       [ 47,   5,   0,   1,   4],\n",
       "       [ 88,   5,   0,   2,   4],\n",
       "       [132,   5,   1,   7,   4],\n",
       "       [ 37,   5,   1,  12,   4],\n",
       "       [ 96,   5,   0,  13,   4],\n",
       "       [ 21,   5,   1,  15,   4],\n",
       "       [103,   5,   1,  17,   4],\n",
       "       [133,   5,   1,  17,   4],\n",
       "       [ 42,   5,   0,  19,   4],\n",
       "       [ 30,   4,   1,  21,   4],\n",
       "       [ 57,   4,   0,  24,   4],\n",
       "       [100,   4,   1,   3,   4],\n",
       "       [ 70,   4,   0,   5,   4],\n",
       "       [ 23,   4,   0,   6,   4],\n",
       "       [ 45,   4,   1,   6,   4],\n",
       "       [ 41,   4,   1,   8,   4],\n",
       "       [128,   4,   1,   9,   4],\n",
       "       [ 27,   4,   0,  11,   4],\n",
       "       [ 83,   4,   1,  12,   4],\n",
       "       [115,   4,   0,  12,   4],\n",
       "       [104,   4,   1,  17,   5],\n",
       "       [111,   4,   1,  17,   5],\n",
       "       [ 82,   4,   1,  18,   5],\n",
       "       [ 52,   4,   1,  20,   5],\n",
       "       [106,   4,   0,  21,   5],\n",
       "       [131,   4,   0,  21,   5],\n",
       "       [101,   4,   1,  30,   5],\n",
       "       [ 71,   4,   0,  34,   5],\n",
       "       [ 24,   4,   0,   6,   5],\n",
       "       [ 63,   4,   1,   9,   5],\n",
       "       [ 81,   4,   1,   9,   5],\n",
       "       [ 35,   4,   1,  10,   5],\n",
       "       [ 76,   4,   0,  11,   5],\n",
       "       [ 60,   4,   1,  12,   5],\n",
       "       [ 85,   4,   0,  19,   5],\n",
       "       [135,   4,   1,  20,   5],\n",
       "       [ 72,   4,   1,   5,   5],\n",
       "       [ 10,   3,   0,   5,   5],\n",
       "       [  3,   3,   1,   6,   5],\n",
       "       [  7,   3,   1,   8,   5],\n",
       "       [ 49,   3,   0,   8,   5],\n",
       "       [121,   3,   0,   9,   5],\n",
       "       [ 20,   3,   1,  11,   5],\n",
       "       [116,   3,   0,  12,   5],\n",
       "       [110,   3,   0,  13,   5],\n",
       "       [ 36,   3,   0,  13,   5],\n",
       "       [ 33,   3,   1,  14,   5],\n",
       "       [123,   3,   1,  16,   5],\n",
       "       [ 15,   3,   1,  17,   5],\n",
       "       [ 65,   3,   0,  18,   5],\n",
       "       [  6,   3,   1,  19,   5],\n",
       "       [  9,   3,   0,  24,   5],\n",
       "       [ 19,   3,   1,   4,   6],\n",
       "       [112,   3,   1,  10,   6],\n",
       "       [ 22,   3,   1,  11,   6],\n",
       "       [ 11,   3,   0,  14,   6],\n",
       "       [ 46,   3,   1,  15,   6],\n",
       "       [  4,   3,   0,  15,   6],\n",
       "       [  2,   3,   1,  16,   6],\n",
       "       [ 48,   3,   1,  19,   6],\n",
       "       [ 32,   3,   0,  22,   6],\n",
       "       [122,   3,   1,   0,   6],\n",
       "       [ 56,   3,   1,   1,   6],\n",
       "       [ 91,   3,   1,   2,   6],\n",
       "       [102,   2,   0,   3,   6],\n",
       "       [127,   2,   1,   5,   6],\n",
       "       [ 90,   2,   1,   5,   6],\n",
       "       [ 67,   2,   1,  10,   6],\n",
       "       [ 97,   2,   0,  12,   6],\n",
       "       [117,   2,   0,  12,   6],\n",
       "       [129,   2,   1,  14,   6],\n",
       "       [  5,   2,   0,  15,   6],\n",
       "       [ 98,   2,   1,  15,   6],\n",
       "       [ 38,   2,   1,  17,   6],\n",
       "       [ 31,   2,   1,  20,   7],\n",
       "       [ 43,   2,   1,  25,   7],\n",
       "       [ 39,   2,   1,   9,   7],\n",
       "       [108,   2,   1,  15,   7],\n",
       "       [ 58,   2,   0,   7,   7],\n",
       "       [ 25,   2,   1,  19,   7],\n",
       "       [ 54,   2,   0,  19,   7],\n",
       "       [ 29,   2,   0,  20,   8],\n",
       "       [114,   2,   0,  13,   8],\n",
       "       [ 61,   1,   0,   8,   8],\n",
       "       [ 26,   1,   0,  17,   8],\n",
       "       [ 89,   1,   1,  20,   9]])"
      ]
     },
     "execution_count": 175,
     "metadata": {},
     "output_type": "execute_result"
    }
   ],
   "source": [
    "#Joining the separate arrays into a single array\n",
    "my_array = np.stack((student, results, sex, absent, hours), axis=1)\n",
    "my_array"
   ]
  },
  {
   "cell_type": "code",
   "execution_count": 176,
   "metadata": {},
   "outputs": [
    {
     "data": {
      "text/html": [
       "<div>\n",
       "<style scoped>\n",
       "    .dataframe tbody tr th:only-of-type {\n",
       "        vertical-align: middle;\n",
       "    }\n",
       "\n",
       "    .dataframe tbody tr th {\n",
       "        vertical-align: top;\n",
       "    }\n",
       "\n",
       "    .dataframe thead th {\n",
       "        text-align: right;\n",
       "    }\n",
       "</style>\n",
       "<table border=\"1\" class=\"dataframe\">\n",
       "  <thead>\n",
       "    <tr style=\"text-align: right;\">\n",
       "      <th></th>\n",
       "      <th>Student</th>\n",
       "      <th>Results</th>\n",
       "      <th>Sex</th>\n",
       "      <th>Absent</th>\n",
       "      <th>Hours</th>\n",
       "    </tr>\n",
       "  </thead>\n",
       "  <tbody>\n",
       "    <tr>\n",
       "      <td>0</td>\n",
       "      <td>16</td>\n",
       "      <td>8</td>\n",
       "      <td>1</td>\n",
       "      <td>12</td>\n",
       "      <td>0</td>\n",
       "    </tr>\n",
       "    <tr>\n",
       "      <td>1</td>\n",
       "      <td>107</td>\n",
       "      <td>8</td>\n",
       "      <td>0</td>\n",
       "      <td>18</td>\n",
       "      <td>0</td>\n",
       "    </tr>\n",
       "    <tr>\n",
       "      <td>2</td>\n",
       "      <td>113</td>\n",
       "      <td>8</td>\n",
       "      <td>1</td>\n",
       "      <td>14</td>\n",
       "      <td>1</td>\n",
       "    </tr>\n",
       "    <tr>\n",
       "      <td>3</td>\n",
       "      <td>118</td>\n",
       "      <td>8</td>\n",
       "      <td>1</td>\n",
       "      <td>1</td>\n",
       "      <td>1</td>\n",
       "    </tr>\n",
       "    <tr>\n",
       "      <td>4</td>\n",
       "      <td>87</td>\n",
       "      <td>7</td>\n",
       "      <td>0</td>\n",
       "      <td>7</td>\n",
       "      <td>1</td>\n",
       "    </tr>\n",
       "    <tr>\n",
       "      <td>...</td>\n",
       "      <td>...</td>\n",
       "      <td>...</td>\n",
       "      <td>...</td>\n",
       "      <td>...</td>\n",
       "      <td>...</td>\n",
       "    </tr>\n",
       "    <tr>\n",
       "      <td>130</td>\n",
       "      <td>29</td>\n",
       "      <td>2</td>\n",
       "      <td>0</td>\n",
       "      <td>20</td>\n",
       "      <td>8</td>\n",
       "    </tr>\n",
       "    <tr>\n",
       "      <td>131</td>\n",
       "      <td>114</td>\n",
       "      <td>2</td>\n",
       "      <td>0</td>\n",
       "      <td>13</td>\n",
       "      <td>8</td>\n",
       "    </tr>\n",
       "    <tr>\n",
       "      <td>132</td>\n",
       "      <td>61</td>\n",
       "      <td>1</td>\n",
       "      <td>0</td>\n",
       "      <td>8</td>\n",
       "      <td>8</td>\n",
       "    </tr>\n",
       "    <tr>\n",
       "      <td>133</td>\n",
       "      <td>26</td>\n",
       "      <td>1</td>\n",
       "      <td>0</td>\n",
       "      <td>17</td>\n",
       "      <td>8</td>\n",
       "    </tr>\n",
       "    <tr>\n",
       "      <td>134</td>\n",
       "      <td>89</td>\n",
       "      <td>1</td>\n",
       "      <td>1</td>\n",
       "      <td>20</td>\n",
       "      <td>9</td>\n",
       "    </tr>\n",
       "  </tbody>\n",
       "</table>\n",
       "<p>135 rows × 5 columns</p>\n",
       "</div>"
      ],
      "text/plain": [
       "     Student  Results  Sex  Absent  Hours\n",
       "0         16        8    1      12      0\n",
       "1        107        8    0      18      0\n",
       "2        113        8    1      14      1\n",
       "3        118        8    1       1      1\n",
       "4         87        7    0       7      1\n",
       "..       ...      ...  ...     ...    ...\n",
       "130       29        2    0      20      8\n",
       "131      114        2    0      13      8\n",
       "132       61        1    0       8      8\n",
       "133       26        1    0      17      8\n",
       "134       89        1    1      20      9\n",
       "\n",
       "[135 rows x 5 columns]"
      ]
     },
     "execution_count": 176,
     "metadata": {},
     "output_type": "execute_result"
    }
   ],
   "source": [
    "#Converting the dataset into a Pandas dataframe\n",
    "df = pd.DataFrame(my_array, columns = ['Student', 'Results', 'Sex', 'Absent', 'Hours'])\n",
    "df"
   ]
  },
  {
   "cell_type": "code",
   "execution_count": 177,
   "metadata": {},
   "outputs": [
    {
     "data": {
      "text/html": [
       "<div>\n",
       "<style scoped>\n",
       "    .dataframe tbody tr th:only-of-type {\n",
       "        vertical-align: middle;\n",
       "    }\n",
       "\n",
       "    .dataframe tbody tr th {\n",
       "        vertical-align: top;\n",
       "    }\n",
       "\n",
       "    .dataframe thead th {\n",
       "        text-align: right;\n",
       "    }\n",
       "</style>\n",
       "<table border=\"1\" class=\"dataframe\">\n",
       "  <thead>\n",
       "    <tr style=\"text-align: right;\">\n",
       "      <th></th>\n",
       "      <th>Student</th>\n",
       "      <th>Results</th>\n",
       "      <th>Sex</th>\n",
       "      <th>Absent</th>\n",
       "      <th>Hours</th>\n",
       "    </tr>\n",
       "  </thead>\n",
       "  <tbody>\n",
       "    <tr>\n",
       "      <td>132</td>\n",
       "      <td>61</td>\n",
       "      <td>1</td>\n",
       "      <td>0</td>\n",
       "      <td>8</td>\n",
       "      <td>8</td>\n",
       "    </tr>\n",
       "    <tr>\n",
       "      <td>133</td>\n",
       "      <td>26</td>\n",
       "      <td>1</td>\n",
       "      <td>0</td>\n",
       "      <td>17</td>\n",
       "      <td>8</td>\n",
       "    </tr>\n",
       "    <tr>\n",
       "      <td>134</td>\n",
       "      <td>89</td>\n",
       "      <td>1</td>\n",
       "      <td>1</td>\n",
       "      <td>20</td>\n",
       "      <td>9</td>\n",
       "    </tr>\n",
       "    <tr>\n",
       "      <td>113</td>\n",
       "      <td>102</td>\n",
       "      <td>2</td>\n",
       "      <td>0</td>\n",
       "      <td>3</td>\n",
       "      <td>6</td>\n",
       "    </tr>\n",
       "    <tr>\n",
       "      <td>127</td>\n",
       "      <td>58</td>\n",
       "      <td>2</td>\n",
       "      <td>0</td>\n",
       "      <td>7</td>\n",
       "      <td>7</td>\n",
       "    </tr>\n",
       "    <tr>\n",
       "      <td>...</td>\n",
       "      <td>...</td>\n",
       "      <td>...</td>\n",
       "      <td>...</td>\n",
       "      <td>...</td>\n",
       "      <td>...</td>\n",
       "    </tr>\n",
       "    <tr>\n",
       "      <td>9</td>\n",
       "      <td>84</td>\n",
       "      <td>7</td>\n",
       "      <td>1</td>\n",
       "      <td>19</td>\n",
       "      <td>2</td>\n",
       "    </tr>\n",
       "    <tr>\n",
       "      <td>1</td>\n",
       "      <td>107</td>\n",
       "      <td>8</td>\n",
       "      <td>0</td>\n",
       "      <td>18</td>\n",
       "      <td>0</td>\n",
       "    </tr>\n",
       "    <tr>\n",
       "      <td>3</td>\n",
       "      <td>118</td>\n",
       "      <td>8</td>\n",
       "      <td>1</td>\n",
       "      <td>1</td>\n",
       "      <td>1</td>\n",
       "    </tr>\n",
       "    <tr>\n",
       "      <td>0</td>\n",
       "      <td>16</td>\n",
       "      <td>8</td>\n",
       "      <td>1</td>\n",
       "      <td>12</td>\n",
       "      <td>0</td>\n",
       "    </tr>\n",
       "    <tr>\n",
       "      <td>2</td>\n",
       "      <td>113</td>\n",
       "      <td>8</td>\n",
       "      <td>1</td>\n",
       "      <td>14</td>\n",
       "      <td>1</td>\n",
       "    </tr>\n",
       "  </tbody>\n",
       "</table>\n",
       "<p>135 rows × 5 columns</p>\n",
       "</div>"
      ],
      "text/plain": [
       "     Student  Results  Sex  Absent  Hours\n",
       "132       61        1    0       8      8\n",
       "133       26        1    0      17      8\n",
       "134       89        1    1      20      9\n",
       "113      102        2    0       3      6\n",
       "127       58        2    0       7      7\n",
       "..       ...      ...  ...     ...    ...\n",
       "9         84        7    1      19      2\n",
       "1        107        8    0      18      0\n",
       "3        118        8    1       1      1\n",
       "0         16        8    1      12      0\n",
       "2        113        8    1      14      1\n",
       "\n",
       "[135 rows x 5 columns]"
      ]
     },
     "execution_count": 177,
     "metadata": {},
     "output_type": "execute_result"
    }
   ],
   "source": [
    "# Sorted dataset\n",
    "df = df.sort_values(by=['Results', 'Sex', 'Absent', 'Hours'])\n",
    "df"
   ]
  },
  {
   "cell_type": "markdown",
   "metadata": {},
   "source": [
    "## Analysis\n",
    "___"
   ]
  },
  {
   "cell_type": "code",
   "execution_count": 182,
   "metadata": {},
   "outputs": [],
   "source": [
    "df['Sex'].replace({0:'male', 1:'female'}, inplace=True)"
   ]
  },
  {
   "cell_type": "code",
   "execution_count": 183,
   "metadata": {},
   "outputs": [
    {
     "data": {
      "text/plain": [
       "female    83\n",
       "male      52\n",
       "Name: Sex, dtype: int64"
      ]
     },
     "execution_count": 183,
     "metadata": {},
     "output_type": "execute_result"
    }
   ],
   "source": [
    "df['Sex'].value_counts()"
   ]
  },
  {
   "cell_type": "code",
   "execution_count": 179,
   "metadata": {
    "scrolled": true
   },
   "outputs": [
    {
     "data": {
      "text/html": [
       "<div>\n",
       "<style scoped>\n",
       "    .dataframe tbody tr th:only-of-type {\n",
       "        vertical-align: middle;\n",
       "    }\n",
       "\n",
       "    .dataframe tbody tr th {\n",
       "        vertical-align: top;\n",
       "    }\n",
       "\n",
       "    .dataframe thead th {\n",
       "        text-align: right;\n",
       "    }\n",
       "</style>\n",
       "<table border=\"1\" class=\"dataframe\">\n",
       "  <thead>\n",
       "    <tr style=\"text-align: right;\">\n",
       "      <th></th>\n",
       "      <th>Student</th>\n",
       "      <th>Results</th>\n",
       "      <th>Sex</th>\n",
       "      <th>Absent</th>\n",
       "      <th>Hours</th>\n",
       "    </tr>\n",
       "  </thead>\n",
       "  <tbody>\n",
       "    <tr>\n",
       "      <td>134</td>\n",
       "      <td>89</td>\n",
       "      <td>1</td>\n",
       "      <td>1</td>\n",
       "      <td>20</td>\n",
       "      <td>9</td>\n",
       "    </tr>\n",
       "    <tr>\n",
       "      <td>114</td>\n",
       "      <td>127</td>\n",
       "      <td>2</td>\n",
       "      <td>1</td>\n",
       "      <td>5</td>\n",
       "      <td>6</td>\n",
       "    </tr>\n",
       "    <tr>\n",
       "      <td>115</td>\n",
       "      <td>90</td>\n",
       "      <td>2</td>\n",
       "      <td>1</td>\n",
       "      <td>5</td>\n",
       "      <td>6</td>\n",
       "    </tr>\n",
       "    <tr>\n",
       "      <td>125</td>\n",
       "      <td>39</td>\n",
       "      <td>2</td>\n",
       "      <td>1</td>\n",
       "      <td>9</td>\n",
       "      <td>7</td>\n",
       "    </tr>\n",
       "    <tr>\n",
       "      <td>116</td>\n",
       "      <td>67</td>\n",
       "      <td>2</td>\n",
       "      <td>1</td>\n",
       "      <td>10</td>\n",
       "      <td>6</td>\n",
       "    </tr>\n",
       "    <tr>\n",
       "      <td>...</td>\n",
       "      <td>...</td>\n",
       "      <td>...</td>\n",
       "      <td>...</td>\n",
       "      <td>...</td>\n",
       "      <td>...</td>\n",
       "    </tr>\n",
       "    <tr>\n",
       "      <td>7</td>\n",
       "      <td>73</td>\n",
       "      <td>7</td>\n",
       "      <td>1</td>\n",
       "      <td>12</td>\n",
       "      <td>2</td>\n",
       "    </tr>\n",
       "    <tr>\n",
       "      <td>9</td>\n",
       "      <td>84</td>\n",
       "      <td>7</td>\n",
       "      <td>1</td>\n",
       "      <td>19</td>\n",
       "      <td>2</td>\n",
       "    </tr>\n",
       "    <tr>\n",
       "      <td>3</td>\n",
       "      <td>118</td>\n",
       "      <td>8</td>\n",
       "      <td>1</td>\n",
       "      <td>1</td>\n",
       "      <td>1</td>\n",
       "    </tr>\n",
       "    <tr>\n",
       "      <td>0</td>\n",
       "      <td>16</td>\n",
       "      <td>8</td>\n",
       "      <td>1</td>\n",
       "      <td>12</td>\n",
       "      <td>0</td>\n",
       "    </tr>\n",
       "    <tr>\n",
       "      <td>2</td>\n",
       "      <td>113</td>\n",
       "      <td>8</td>\n",
       "      <td>1</td>\n",
       "      <td>14</td>\n",
       "      <td>1</td>\n",
       "    </tr>\n",
       "  </tbody>\n",
       "</table>\n",
       "<p>83 rows × 5 columns</p>\n",
       "</div>"
      ],
      "text/plain": [
       "     Student  Results  Sex  Absent  Hours\n",
       "134       89        1    1      20      9\n",
       "114      127        2    1       5      6\n",
       "115       90        2    1       5      6\n",
       "125       39        2    1       9      7\n",
       "116       67        2    1      10      6\n",
       "..       ...      ...  ...     ...    ...\n",
       "7         73        7    1      12      2\n",
       "9         84        7    1      19      2\n",
       "3        118        8    1       1      1\n",
       "0         16        8    1      12      0\n",
       "2        113        8    1      14      1\n",
       "\n",
       "[83 rows x 5 columns]"
      ]
     },
     "execution_count": 179,
     "metadata": {},
     "output_type": "execute_result"
    }
   ],
   "source": [
    "# Data of just female students\n",
    "female = df[df['Sex']==1]\n",
    "female"
   ]
  },
  {
   "cell_type": "code",
   "execution_count": 180,
   "metadata": {},
   "outputs": [
    {
     "data": {
      "text/plain": [
       "1     1\n",
       "2    11\n",
       "3    16\n",
       "4    17\n",
       "5    16\n",
       "6    15\n",
       "7     4\n",
       "8     3\n",
       "Name: Results, dtype: int64"
      ]
     },
     "execution_count": 180,
     "metadata": {},
     "output_type": "execute_result"
    }
   ],
   "source": [
    "# counting the number of each grade received by female students\n",
    "f_results = female['Results'].value_counts(sort = False, ascending = True)\n",
    "f_results"
   ]
  },
  {
   "cell_type": "code",
   "execution_count": 101,
   "metadata": {},
   "outputs": [],
   "source": [
    "f_results= np.array(f_results)\n",
    "f_results"
   ]
  },
  {
   "cell_type": "markdown",
   "metadata": {},
   "source": [
    "Calculating the percentage of females receiving each grade."
   ]
  },
  {
   "cell_type": "code",
   "execution_count": 126,
   "metadata": {},
   "outputs": [
    {
     "name": "stdout",
     "output_type": "stream",
     "text": [
      "1.2048192771084338\n",
      "13.253012048192772\n",
      "19.27710843373494\n",
      "20.481927710843372\n",
      "19.27710843373494\n",
      "18.072289156626507\n",
      "4.819277108433735\n",
      "3.614457831325301\n"
     ]
    }
   ],
   "source": [
    "for x in f_results:\n",
    "    x = x/83*100\n",
    "    print(x)"
   ]
  },
  {
   "cell_type": "code",
   "execution_count": 181,
   "metadata": {
    "scrolled": true
   },
   "outputs": [
    {
     "data": {
      "text/html": [
       "<div>\n",
       "<style scoped>\n",
       "    .dataframe tbody tr th:only-of-type {\n",
       "        vertical-align: middle;\n",
       "    }\n",
       "\n",
       "    .dataframe tbody tr th {\n",
       "        vertical-align: top;\n",
       "    }\n",
       "\n",
       "    .dataframe thead th {\n",
       "        text-align: right;\n",
       "    }\n",
       "</style>\n",
       "<table border=\"1\" class=\"dataframe\">\n",
       "  <thead>\n",
       "    <tr style=\"text-align: right;\">\n",
       "      <th></th>\n",
       "      <th>Student</th>\n",
       "      <th>Results</th>\n",
       "      <th>Sex</th>\n",
       "      <th>Absent</th>\n",
       "      <th>Hours</th>\n",
       "    </tr>\n",
       "  </thead>\n",
       "  <tbody>\n",
       "    <tr>\n",
       "      <td>132</td>\n",
       "      <td>61</td>\n",
       "      <td>1</td>\n",
       "      <td>0</td>\n",
       "      <td>8</td>\n",
       "      <td>8</td>\n",
       "    </tr>\n",
       "    <tr>\n",
       "      <td>133</td>\n",
       "      <td>26</td>\n",
       "      <td>1</td>\n",
       "      <td>0</td>\n",
       "      <td>17</td>\n",
       "      <td>8</td>\n",
       "    </tr>\n",
       "    <tr>\n",
       "      <td>113</td>\n",
       "      <td>102</td>\n",
       "      <td>2</td>\n",
       "      <td>0</td>\n",
       "      <td>3</td>\n",
       "      <td>6</td>\n",
       "    </tr>\n",
       "    <tr>\n",
       "      <td>127</td>\n",
       "      <td>58</td>\n",
       "      <td>2</td>\n",
       "      <td>0</td>\n",
       "      <td>7</td>\n",
       "      <td>7</td>\n",
       "    </tr>\n",
       "    <tr>\n",
       "      <td>117</td>\n",
       "      <td>97</td>\n",
       "      <td>2</td>\n",
       "      <td>0</td>\n",
       "      <td>12</td>\n",
       "      <td>6</td>\n",
       "    </tr>\n",
       "    <tr>\n",
       "      <td>118</td>\n",
       "      <td>117</td>\n",
       "      <td>2</td>\n",
       "      <td>0</td>\n",
       "      <td>12</td>\n",
       "      <td>6</td>\n",
       "    </tr>\n",
       "    <tr>\n",
       "      <td>131</td>\n",
       "      <td>114</td>\n",
       "      <td>2</td>\n",
       "      <td>0</td>\n",
       "      <td>13</td>\n",
       "      <td>8</td>\n",
       "    </tr>\n",
       "    <tr>\n",
       "      <td>120</td>\n",
       "      <td>5</td>\n",
       "      <td>2</td>\n",
       "      <td>0</td>\n",
       "      <td>15</td>\n",
       "      <td>6</td>\n",
       "    </tr>\n",
       "    <tr>\n",
       "      <td>129</td>\n",
       "      <td>54</td>\n",
       "      <td>2</td>\n",
       "      <td>0</td>\n",
       "      <td>19</td>\n",
       "      <td>7</td>\n",
       "    </tr>\n",
       "    <tr>\n",
       "      <td>130</td>\n",
       "      <td>29</td>\n",
       "      <td>2</td>\n",
       "      <td>0</td>\n",
       "      <td>20</td>\n",
       "      <td>8</td>\n",
       "    </tr>\n",
       "    <tr>\n",
       "      <td>86</td>\n",
       "      <td>10</td>\n",
       "      <td>3</td>\n",
       "      <td>0</td>\n",
       "      <td>5</td>\n",
       "      <td>5</td>\n",
       "    </tr>\n",
       "    <tr>\n",
       "      <td>89</td>\n",
       "      <td>49</td>\n",
       "      <td>3</td>\n",
       "      <td>0</td>\n",
       "      <td>8</td>\n",
       "      <td>5</td>\n",
       "    </tr>\n",
       "    <tr>\n",
       "      <td>90</td>\n",
       "      <td>121</td>\n",
       "      <td>3</td>\n",
       "      <td>0</td>\n",
       "      <td>9</td>\n",
       "      <td>5</td>\n",
       "    </tr>\n",
       "    <tr>\n",
       "      <td>92</td>\n",
       "      <td>116</td>\n",
       "      <td>3</td>\n",
       "      <td>0</td>\n",
       "      <td>12</td>\n",
       "      <td>5</td>\n",
       "    </tr>\n",
       "    <tr>\n",
       "      <td>93</td>\n",
       "      <td>110</td>\n",
       "      <td>3</td>\n",
       "      <td>0</td>\n",
       "      <td>13</td>\n",
       "      <td>5</td>\n",
       "    </tr>\n",
       "    <tr>\n",
       "      <td>94</td>\n",
       "      <td>36</td>\n",
       "      <td>3</td>\n",
       "      <td>0</td>\n",
       "      <td>13</td>\n",
       "      <td>5</td>\n",
       "    </tr>\n",
       "    <tr>\n",
       "      <td>104</td>\n",
       "      <td>11</td>\n",
       "      <td>3</td>\n",
       "      <td>0</td>\n",
       "      <td>14</td>\n",
       "      <td>6</td>\n",
       "    </tr>\n",
       "    <tr>\n",
       "      <td>106</td>\n",
       "      <td>4</td>\n",
       "      <td>3</td>\n",
       "      <td>0</td>\n",
       "      <td>15</td>\n",
       "      <td>6</td>\n",
       "    </tr>\n",
       "    <tr>\n",
       "      <td>98</td>\n",
       "      <td>65</td>\n",
       "      <td>3</td>\n",
       "      <td>0</td>\n",
       "      <td>18</td>\n",
       "      <td>5</td>\n",
       "    </tr>\n",
       "    <tr>\n",
       "      <td>109</td>\n",
       "      <td>32</td>\n",
       "      <td>3</td>\n",
       "      <td>0</td>\n",
       "      <td>22</td>\n",
       "      <td>6</td>\n",
       "    </tr>\n",
       "    <tr>\n",
       "      <td>100</td>\n",
       "      <td>9</td>\n",
       "      <td>3</td>\n",
       "      <td>0</td>\n",
       "      <td>24</td>\n",
       "      <td>5</td>\n",
       "    </tr>\n",
       "    <tr>\n",
       "      <td>61</td>\n",
       "      <td>70</td>\n",
       "      <td>4</td>\n",
       "      <td>0</td>\n",
       "      <td>5</td>\n",
       "      <td>4</td>\n",
       "    </tr>\n",
       "    <tr>\n",
       "      <td>62</td>\n",
       "      <td>23</td>\n",
       "      <td>4</td>\n",
       "      <td>0</td>\n",
       "      <td>6</td>\n",
       "      <td>4</td>\n",
       "    </tr>\n",
       "    <tr>\n",
       "      <td>77</td>\n",
       "      <td>24</td>\n",
       "      <td>4</td>\n",
       "      <td>0</td>\n",
       "      <td>6</td>\n",
       "      <td>5</td>\n",
       "    </tr>\n",
       "    <tr>\n",
       "      <td>66</td>\n",
       "      <td>27</td>\n",
       "      <td>4</td>\n",
       "      <td>0</td>\n",
       "      <td>11</td>\n",
       "      <td>4</td>\n",
       "    </tr>\n",
       "    <tr>\n",
       "      <td>81</td>\n",
       "      <td>76</td>\n",
       "      <td>4</td>\n",
       "      <td>0</td>\n",
       "      <td>11</td>\n",
       "      <td>5</td>\n",
       "    </tr>\n",
       "    <tr>\n",
       "      <td>68</td>\n",
       "      <td>115</td>\n",
       "      <td>4</td>\n",
       "      <td>0</td>\n",
       "      <td>12</td>\n",
       "      <td>4</td>\n",
       "    </tr>\n",
       "    <tr>\n",
       "      <td>83</td>\n",
       "      <td>85</td>\n",
       "      <td>4</td>\n",
       "      <td>0</td>\n",
       "      <td>19</td>\n",
       "      <td>5</td>\n",
       "    </tr>\n",
       "    <tr>\n",
       "      <td>73</td>\n",
       "      <td>106</td>\n",
       "      <td>4</td>\n",
       "      <td>0</td>\n",
       "      <td>21</td>\n",
       "      <td>5</td>\n",
       "    </tr>\n",
       "    <tr>\n",
       "      <td>74</td>\n",
       "      <td>131</td>\n",
       "      <td>4</td>\n",
       "      <td>0</td>\n",
       "      <td>21</td>\n",
       "      <td>5</td>\n",
       "    </tr>\n",
       "    <tr>\n",
       "      <td>59</td>\n",
       "      <td>57</td>\n",
       "      <td>4</td>\n",
       "      <td>0</td>\n",
       "      <td>24</td>\n",
       "      <td>4</td>\n",
       "    </tr>\n",
       "    <tr>\n",
       "      <td>76</td>\n",
       "      <td>71</td>\n",
       "      <td>4</td>\n",
       "      <td>0</td>\n",
       "      <td>34</td>\n",
       "      <td>5</td>\n",
       "    </tr>\n",
       "    <tr>\n",
       "      <td>49</td>\n",
       "      <td>47</td>\n",
       "      <td>5</td>\n",
       "      <td>0</td>\n",
       "      <td>1</td>\n",
       "      <td>4</td>\n",
       "    </tr>\n",
       "    <tr>\n",
       "      <td>50</td>\n",
       "      <td>88</td>\n",
       "      <td>5</td>\n",
       "      <td>0</td>\n",
       "      <td>2</td>\n",
       "      <td>4</td>\n",
       "    </tr>\n",
       "    <tr>\n",
       "      <td>34</td>\n",
       "      <td>18</td>\n",
       "      <td>5</td>\n",
       "      <td>0</td>\n",
       "      <td>4</td>\n",
       "      <td>3</td>\n",
       "    </tr>\n",
       "    <tr>\n",
       "      <td>53</td>\n",
       "      <td>96</td>\n",
       "      <td>5</td>\n",
       "      <td>0</td>\n",
       "      <td>13</td>\n",
       "      <td>4</td>\n",
       "    </tr>\n",
       "    <tr>\n",
       "      <td>44</td>\n",
       "      <td>12</td>\n",
       "      <td>5</td>\n",
       "      <td>0</td>\n",
       "      <td>16</td>\n",
       "      <td>4</td>\n",
       "    </tr>\n",
       "    <tr>\n",
       "      <td>46</td>\n",
       "      <td>59</td>\n",
       "      <td>5</td>\n",
       "      <td>0</td>\n",
       "      <td>19</td>\n",
       "      <td>4</td>\n",
       "    </tr>\n",
       "    <tr>\n",
       "      <td>57</td>\n",
       "      <td>42</td>\n",
       "      <td>5</td>\n",
       "      <td>0</td>\n",
       "      <td>19</td>\n",
       "      <td>4</td>\n",
       "    </tr>\n",
       "    <tr>\n",
       "      <td>48</td>\n",
       "      <td>53</td>\n",
       "      <td>5</td>\n",
       "      <td>0</td>\n",
       "      <td>28</td>\n",
       "      <td>4</td>\n",
       "    </tr>\n",
       "    <tr>\n",
       "      <td>22</td>\n",
       "      <td>69</td>\n",
       "      <td>6</td>\n",
       "      <td>0</td>\n",
       "      <td>1</td>\n",
       "      <td>3</td>\n",
       "    </tr>\n",
       "    <tr>\n",
       "      <td>33</td>\n",
       "      <td>34</td>\n",
       "      <td>6</td>\n",
       "      <td>0</td>\n",
       "      <td>2</td>\n",
       "      <td>3</td>\n",
       "    </tr>\n",
       "    <tr>\n",
       "      <td>12</td>\n",
       "      <td>51</td>\n",
       "      <td>6</td>\n",
       "      <td>0</td>\n",
       "      <td>4</td>\n",
       "      <td>3</td>\n",
       "    </tr>\n",
       "    <tr>\n",
       "      <td>25</td>\n",
       "      <td>66</td>\n",
       "      <td>6</td>\n",
       "      <td>0</td>\n",
       "      <td>6</td>\n",
       "      <td>3</td>\n",
       "    </tr>\n",
       "    <tr>\n",
       "      <td>13</td>\n",
       "      <td>78</td>\n",
       "      <td>6</td>\n",
       "      <td>0</td>\n",
       "      <td>9</td>\n",
       "      <td>3</td>\n",
       "    </tr>\n",
       "    <tr>\n",
       "      <td>14</td>\n",
       "      <td>126</td>\n",
       "      <td>6</td>\n",
       "      <td>0</td>\n",
       "      <td>10</td>\n",
       "      <td>3</td>\n",
       "    </tr>\n",
       "    <tr>\n",
       "      <td>17</td>\n",
       "      <td>1</td>\n",
       "      <td>6</td>\n",
       "      <td>0</td>\n",
       "      <td>11</td>\n",
       "      <td>3</td>\n",
       "    </tr>\n",
       "    <tr>\n",
       "      <td>18</td>\n",
       "      <td>28</td>\n",
       "      <td>6</td>\n",
       "      <td>0</td>\n",
       "      <td>13</td>\n",
       "      <td>3</td>\n",
       "    </tr>\n",
       "    <tr>\n",
       "      <td>20</td>\n",
       "      <td>8</td>\n",
       "      <td>6</td>\n",
       "      <td>0</td>\n",
       "      <td>24</td>\n",
       "      <td>3</td>\n",
       "    </tr>\n",
       "    <tr>\n",
       "      <td>4</td>\n",
       "      <td>87</td>\n",
       "      <td>7</td>\n",
       "      <td>0</td>\n",
       "      <td>7</td>\n",
       "      <td>1</td>\n",
       "    </tr>\n",
       "    <tr>\n",
       "      <td>8</td>\n",
       "      <td>95</td>\n",
       "      <td>7</td>\n",
       "      <td>0</td>\n",
       "      <td>12</td>\n",
       "      <td>2</td>\n",
       "    </tr>\n",
       "    <tr>\n",
       "      <td>1</td>\n",
       "      <td>107</td>\n",
       "      <td>8</td>\n",
       "      <td>0</td>\n",
       "      <td>18</td>\n",
       "      <td>0</td>\n",
       "    </tr>\n",
       "  </tbody>\n",
       "</table>\n",
       "</div>"
      ],
      "text/plain": [
       "     Student  Results  Sex  Absent  Hours\n",
       "132       61        1    0       8      8\n",
       "133       26        1    0      17      8\n",
       "113      102        2    0       3      6\n",
       "127       58        2    0       7      7\n",
       "117       97        2    0      12      6\n",
       "118      117        2    0      12      6\n",
       "131      114        2    0      13      8\n",
       "120        5        2    0      15      6\n",
       "129       54        2    0      19      7\n",
       "130       29        2    0      20      8\n",
       "86        10        3    0       5      5\n",
       "89        49        3    0       8      5\n",
       "90       121        3    0       9      5\n",
       "92       116        3    0      12      5\n",
       "93       110        3    0      13      5\n",
       "94        36        3    0      13      5\n",
       "104       11        3    0      14      6\n",
       "106        4        3    0      15      6\n",
       "98        65        3    0      18      5\n",
       "109       32        3    0      22      6\n",
       "100        9        3    0      24      5\n",
       "61        70        4    0       5      4\n",
       "62        23        4    0       6      4\n",
       "77        24        4    0       6      5\n",
       "66        27        4    0      11      4\n",
       "81        76        4    0      11      5\n",
       "68       115        4    0      12      4\n",
       "83        85        4    0      19      5\n",
       "73       106        4    0      21      5\n",
       "74       131        4    0      21      5\n",
       "59        57        4    0      24      4\n",
       "76        71        4    0      34      5\n",
       "49        47        5    0       1      4\n",
       "50        88        5    0       2      4\n",
       "34        18        5    0       4      3\n",
       "53        96        5    0      13      4\n",
       "44        12        5    0      16      4\n",
       "46        59        5    0      19      4\n",
       "57        42        5    0      19      4\n",
       "48        53        5    0      28      4\n",
       "22        69        6    0       1      3\n",
       "33        34        6    0       2      3\n",
       "12        51        6    0       4      3\n",
       "25        66        6    0       6      3\n",
       "13        78        6    0       9      3\n",
       "14       126        6    0      10      3\n",
       "17         1        6    0      11      3\n",
       "18        28        6    0      13      3\n",
       "20         8        6    0      24      3\n",
       "4         87        7    0       7      1\n",
       "8         95        7    0      12      2\n",
       "1        107        8    0      18      0"
      ]
     },
     "execution_count": 181,
     "metadata": {},
     "output_type": "execute_result"
    }
   ],
   "source": [
    "# Data of male students\n",
    "male = df[df['Sex']==0]\n",
    "male"
   ]
  },
  {
   "cell_type": "code",
   "execution_count": 128,
   "metadata": {},
   "outputs": [],
   "source": [
    "# counting the number of each grade received by male students\n",
    "m_results = male['Results'].value_counts(sort = False, ascending = True)"
   ]
  },
  {
   "cell_type": "code",
   "execution_count": 129,
   "metadata": {},
   "outputs": [
    {
     "data": {
      "text/plain": [
       "array([ 2,  8, 11, 11,  8,  9,  2,  1], dtype=int64)"
      ]
     },
     "execution_count": 129,
     "metadata": {},
     "output_type": "execute_result"
    }
   ],
   "source": [
    "m_results= np.array(m_results)\n",
    "m_results"
   ]
  },
  {
   "cell_type": "code",
   "execution_count": 131,
   "metadata": {},
   "outputs": [
    {
     "name": "stdout",
     "output_type": "stream",
     "text": [
      "3.8461538461538463\n",
      "15.384615384615385\n",
      "21.153846153846153\n",
      "21.153846153846153\n",
      "15.384615384615385\n",
      "17.307692307692307\n",
      "3.8461538461538463\n",
      "1.9230769230769231\n"
     ]
    }
   ],
   "source": [
    "for x in m_results:\n",
    "    x = x/52*100\n",
    "    print(x)"
   ]
  },
  {
   "cell_type": "markdown",
   "metadata": {},
   "source": [
    "Below is a T-test analysing if there is a difference in grades between the males and females as well as a graph of the distribution of grades separated by sex. "
   ]
  },
  {
   "cell_type": "code",
   "execution_count": 191,
   "metadata": {},
   "outputs": [
    {
     "data": {
      "text/plain": [
       "Ttest_indResult(statistic=-1.0057449998885406, pvalue=0.31636454440091444)"
      ]
     },
     "execution_count": 191,
     "metadata": {},
     "output_type": "execute_result"
    }
   ],
   "source": [
    "stats.ttest_ind(df['Results'][df['Sex']=='male'],\n",
    "               df['Results'][df['Sex']=='female'])"
   ]
  },
  {
   "cell_type": "code",
   "execution_count": 161,
   "metadata": {},
   "outputs": [
    {
     "data": {
      "image/png": "[encoded data removed]",
      "text/plain": [
       "<Figure size 432x288 with 1 Axes>"
      ]
     },
     "metadata": {
      "needs_background": "light"
     },
     "output_type": "display_data"
    }
   ],
   "source": [
    "labels = ['H1', 'H2', 'H3', 'H4', 'H5', 'H6', 'H7', 'H8']\n",
    "males = [3.9, 15.9, 21.2, 21.2, 15.4, 17.3, 3.8, 1.9]           #these figures are the % distribution of \n",
    "females = [1.2, 13.3, 19.3, 20.5, 19.3, 18.1, 4.8, 3.6]         # grades for males and females\n",
    "\n",
    "ind = np.arange(len(males))\n",
    "width = 0.35\n",
    "\n",
    "fig, ax = plt.subplots()\n",
    "\n",
    "rects1 = ax.bar(ind-width/2, males, width, label='Males')\n",
    "rects2 = ax.bar(ind+width/2, females, width, label='Females')\n",
    "\n",
    "ax.set_title('Grades by sex')\n",
    "ax.set_xticks(ind)\n",
    "ax.set_xticklabels(('H1', 'H2', 'H3', 'H4', 'H5', 'H6', 'H7', 'H8'))\n",
    "\n",
    "ax.legend()\n",
    "\n",
    "plt.show()"
   ]
  },
  {
   "cell_type": "markdown",
   "metadata": {},
   "source": [
    "On average males and females spent the same number of hours studying outside of school hours."
   ]
  },
  {
   "cell_type": "code",
   "execution_count": 192,
   "metadata": {},
   "outputs": [
    {
     "data": {
      "text/plain": [
       "Ttest_indResult(statistic=0.7318104333330308, pvalue=0.46557180213257476)"
      ]
     },
     "execution_count": 192,
     "metadata": {},
     "output_type": "execute_result"
    }
   ],
   "source": [
    "stats.ttest_ind(df['Hours'][df['Sex']=='male'],\n",
    "               df['Hours'][df['Sex']=='female'])"
   ]
  },
  {
   "cell_type": "code",
   "execution_count": 165,
   "metadata": {},
   "outputs": [
    {
     "data": {
      "text/html": [
       "<div>\n",
       "<style scoped>\n",
       "    .dataframe tbody tr th:only-of-type {\n",
       "        vertical-align: middle;\n",
       "    }\n",
       "\n",
       "    .dataframe tbody tr th {\n",
       "        vertical-align: top;\n",
       "    }\n",
       "\n",
       "    .dataframe thead th {\n",
       "        text-align: right;\n",
       "    }\n",
       "</style>\n",
       "<table border=\"1\" class=\"dataframe\">\n",
       "  <thead>\n",
       "    <tr style=\"text-align: right;\">\n",
       "      <th></th>\n",
       "      <th>Hours</th>\n",
       "    </tr>\n",
       "    <tr>\n",
       "      <th>Sex</th>\n",
       "      <th></th>\n",
       "    </tr>\n",
       "  </thead>\n",
       "  <tbody>\n",
       "    <tr>\n",
       "      <td>0</td>\n",
       "      <td>4.596154</td>\n",
       "    </tr>\n",
       "    <tr>\n",
       "      <td>1</td>\n",
       "      <td>4.385542</td>\n",
       "    </tr>\n",
       "  </tbody>\n",
       "</table>\n",
       "</div>"
      ],
      "text/plain": [
       "        Hours\n",
       "Sex          \n",
       "0    4.596154\n",
       "1    4.385542"
      ]
     },
     "execution_count": 165,
     "metadata": {},
     "output_type": "execute_result"
    }
   ],
   "source": [
    "df.groupby('Sex').agg({\"Hours\": \"mean\"})"
   ]
  },
  {
   "cell_type": "markdown",
   "metadata": {},
   "source": [
    "We can see a correlation between results and number of hours study performed.  As would be expected, students who spent more time studying outside of school hours received better grades compared to those who studied less."
   ]
  },
  {
   "cell_type": "code",
   "execution_count": 198,
   "metadata": {},
   "outputs": [
    {
     "data": {
      "text/html": [
       "<div>\n",
       "<style scoped>\n",
       "    .dataframe tbody tr th:only-of-type {\n",
       "        vertical-align: middle;\n",
       "    }\n",
       "\n",
       "    .dataframe tbody tr th {\n",
       "        vertical-align: top;\n",
       "    }\n",
       "\n",
       "    .dataframe thead th {\n",
       "        text-align: right;\n",
       "    }\n",
       "</style>\n",
       "<table border=\"1\" class=\"dataframe\">\n",
       "  <thead>\n",
       "    <tr style=\"text-align: right;\">\n",
       "      <th></th>\n",
       "      <th>Hours</th>\n",
       "    </tr>\n",
       "    <tr>\n",
       "      <th>Results</th>\n",
       "      <th></th>\n",
       "    </tr>\n",
       "  </thead>\n",
       "  <tbody>\n",
       "    <tr>\n",
       "      <td>1</td>\n",
       "      <td>8.333333</td>\n",
       "    </tr>\n",
       "    <tr>\n",
       "      <td>2</td>\n",
       "      <td>6.578947</td>\n",
       "    </tr>\n",
       "    <tr>\n",
       "      <td>3</td>\n",
       "      <td>5.444444</td>\n",
       "    </tr>\n",
       "    <tr>\n",
       "      <td>4</td>\n",
       "      <td>4.607143</td>\n",
       "    </tr>\n",
       "    <tr>\n",
       "      <td>5</td>\n",
       "      <td>3.916667</td>\n",
       "    </tr>\n",
       "    <tr>\n",
       "      <td>6</td>\n",
       "      <td>2.916667</td>\n",
       "    </tr>\n",
       "    <tr>\n",
       "      <td>7</td>\n",
       "      <td>1.833333</td>\n",
       "    </tr>\n",
       "    <tr>\n",
       "      <td>8</td>\n",
       "      <td>0.500000</td>\n",
       "    </tr>\n",
       "  </tbody>\n",
       "</table>\n",
       "</div>"
      ],
      "text/plain": [
       "            Hours\n",
       "Results          \n",
       "1        8.333333\n",
       "2        6.578947\n",
       "3        5.444444\n",
       "4        4.607143\n",
       "5        3.916667\n",
       "6        2.916667\n",
       "7        1.833333\n",
       "8        0.500000"
      ]
     },
     "execution_count": 198,
     "metadata": {},
     "output_type": "execute_result"
    }
   ],
   "source": [
    "df.groupby('Results').agg({\"Hours\": \"mean\"})"
   ]
  },
  {
   "cell_type": "code",
   "execution_count": 166,
   "metadata": {},
   "outputs": [
    {
     "data": {
      "text/plain": [
       "<matplotlib.axes._subplots.AxesSubplot at 0x26b0ceefb48>"
      ]
     },
     "execution_count": 166,
     "metadata": {},
     "output_type": "execute_result"
    },
    {
     "data": {
      "image/png": "[encoded data removed]",
      "text/plain": [
       "<Figure size 432x288 with 1 Axes>"
      ]
     },
     "metadata": {
      "needs_background": "light"
     },
     "output_type": "display_data"
    }
   ],
   "source": [
    "df.plot.scatter(x = 'Results', y = 'Hours')"
   ]
  },
  {
   "cell_type": "markdown",
   "metadata": {},
   "source": [
    "There seemed to be no apparent correlation between the number of absences from school and the grade received."
   ]
  },
  {
   "cell_type": "code",
   "execution_count": 219,
   "metadata": {},
   "outputs": [
    {
     "data": {
      "text/html": [
       "<div>\n",
       "<style scoped>\n",
       "    .dataframe tbody tr th:only-of-type {\n",
       "        vertical-align: middle;\n",
       "    }\n",
       "\n",
       "    .dataframe tbody tr th {\n",
       "        vertical-align: top;\n",
       "    }\n",
       "\n",
       "    .dataframe thead th {\n",
       "        text-align: right;\n",
       "    }\n",
       "</style>\n",
       "<table border=\"1\" class=\"dataframe\">\n",
       "  <thead>\n",
       "    <tr style=\"text-align: right;\">\n",
       "      <th></th>\n",
       "      <th>Absent</th>\n",
       "    </tr>\n",
       "    <tr>\n",
       "      <th>Results</th>\n",
       "      <th></th>\n",
       "    </tr>\n",
       "  </thead>\n",
       "  <tbody>\n",
       "    <tr>\n",
       "      <td>1</td>\n",
       "      <td>7.000000</td>\n",
       "    </tr>\n",
       "    <tr>\n",
       "      <td>2</td>\n",
       "      <td>13.384615</td>\n",
       "    </tr>\n",
       "    <tr>\n",
       "      <td>3</td>\n",
       "      <td>9.800000</td>\n",
       "    </tr>\n",
       "    <tr>\n",
       "      <td>4</td>\n",
       "      <td>12.909091</td>\n",
       "    </tr>\n",
       "    <tr>\n",
       "      <td>5</td>\n",
       "      <td>10.482759</td>\n",
       "    </tr>\n",
       "    <tr>\n",
       "      <td>6</td>\n",
       "      <td>14.545455</td>\n",
       "    </tr>\n",
       "    <tr>\n",
       "      <td>7</td>\n",
       "      <td>12.500000</td>\n",
       "    </tr>\n",
       "    <tr>\n",
       "      <td>8</td>\n",
       "      <td>20.000000</td>\n",
       "    </tr>\n",
       "  </tbody>\n",
       "</table>\n",
       "</div>"
      ],
      "text/plain": [
       "            Absent\n",
       "Results           \n",
       "1         7.000000\n",
       "2        13.384615\n",
       "3         9.800000\n",
       "4        12.909091\n",
       "5        10.482759\n",
       "6        14.545455\n",
       "7        12.500000\n",
       "8        20.000000"
      ]
     },
     "execution_count": 219,
     "metadata": {},
     "output_type": "execute_result"
    }
   ],
   "source": [
    "df.groupby('Results').agg({\"Absent\": \"mean\"})"
   ]
  },
  {
   "cell_type": "code",
   "execution_count": 173,
   "metadata": {},
   "outputs": [
    {
     "data": {
      "text/plain": [
       "<matplotlib.axes._subplots.AxesSubplot at 0x26b0d397a88>"
      ]
     },
     "execution_count": 173,
     "metadata": {},
     "output_type": "execute_result"
    },
    {
     "data": {
      "image/png": "[encoded data removed]",
      "text/plain": [
       "<Figure size 432x288 with 1 Axes>"
      ]
     },
     "metadata": {
      "needs_background": "light"
     },
     "output_type": "display_data"
    }
   ],
   "source": [
    "df.plot.scatter(x = 'Results', y = 'Absent')"
   ]
  },
  {
   "cell_type": "markdown",
   "metadata": {},
   "source": [
    "In conclusion, two out of the three factors I examined appeared to have an impact on the grade received by students in their Leaving Certificate Spanish exam.  The first factor I looked at was sex and boys tended to perform slightly better compared to girls.  The second was the number of hours spent studying and as was expected there was a positive correlation between this and the grade received with those studying more achieving a higher result.  Lastly, the number of absences appeared to have to affect on the result achieved in the exam. \n",
    "\n",
    "I believe my dataset closely resembled that which would be observed in the real-world and my analysis matches the actual relationships between the factors."
   ]
  },
  {
   "cell_type": "markdown",
   "metadata": {},
   "source": [
    "### References\n",
    "\n",
    "[1]. http://transition.ie/files/2015/Full%20Details%20-%20Revised%20Common%20Points%20Scale.pdf\n",
    "\n",
    "[2]. https://en.wikipedia.org/wiki/Continuous_or_discrete_variable\n",
    "\n",
    "[3]. https://stats.idre.ucla.edu/other/mult-pkg/whatstat/what-is-the-difference-between-categorical-ordinal-and-numerical-variables/\n",
    "\n",
    "[4]. https://docs.scipy.org/doc/scipy-0.17.0/reference/generated/scipy.stats.truncnorm.html\n",
    "\n",
    "[5]. Women and Men in Ireland 2019, https://www.cso.ie/en/releasesandpublications/ep/p-wamii/womenandmeninireland2019/education/\n",
    "\n",
    "[6]. State Examinitions Commission, https://www.examinations.ie/statistics/?l=en&mc=st&sc=r19\n",
    "\n",
    "[7]. TUSLA, School Attendance Data from Primary and Post-Primary Schools"
   ]
  },
  {
   "cell_type": "code",
   "execution_count": null,
   "metadata": {},
   "outputs": [],
   "source": []
  }
 ],
 "metadata": {
  "kernelspec": {
   "display_name": "Python 3",
   "language": "python",
   "name": "python3"
  },
  "language_info": {
   "codemirror_mode": {
    "name": "ipython",
    "version": 3
   },
   "file_extension": ".py",
   "mimetype": "text/x-python",
   "name": "python",
   "nbconvert_exporter": "python",
   "pygments_lexer": "ipython3",
   "version": "3.7.4"
  }
 },
 "nbformat": 4,
 "nbformat_minor": 2
}
